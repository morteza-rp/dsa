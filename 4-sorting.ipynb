{
 "cells": [
  {
   "cell_type": "markdown",
   "metadata": {},
   "source": [
    "Counting Sort  \n",
    "\n",
    "A = array  \n",
    "n = length of array  \n",
    "m = maximum element in array  "
   ]
  },
  {
   "cell_type": "code",
   "execution_count": 17,
   "metadata": {},
   "outputs": [
    {
     "name": "stdout",
     "output_type": "stream",
     "text": [
      "[0, 3, 4, 2, 1, 1]\n",
      "[1, 1, 1, 2, 2, 2, 2, 3, 3, 4, 5]\n"
     ]
    }
   ],
   "source": [
    "A = [1, 2, 2, 2, 1, 3, 3, 1, 2, 4, 5]\n",
    "n = len(A)\n",
    "m = max(A)\n",
    "count = [0] * (m+1)\n",
    "\n",
    "for x in A:\n",
    "    count[x] += 1\n",
    "print(count)\n",
    "\n",
    "s=[]\n",
    "for i in range(m+1):\n",
    "    s += [i] * count[i]\n",
    "print(s)"
   ]
  },
  {
   "cell_type": "code",
   "execution_count": 12,
   "metadata": {},
   "outputs": [
    {
     "data": {
      "text/plain": [
       "'abdes'"
      ]
     },
     "execution_count": 12,
     "metadata": {},
     "output_type": "execute_result"
    }
   ],
   "source": [
    "def char_countSort(arr):\n",
    "    n = len(arr)\n",
    "    freq=[0 for i in range(256)] \n",
    "\n",
    "    for char in arr:\n",
    "        freq[ord(char)]+=1\n",
    "    \n",
    "    arr = \"\"\n",
    "    for i in range(256):\n",
    "        for j in range(freq[i]):\n",
    "            arr += chr(i)    \n",
    "    return arr\n",
    "\n",
    "char_countSort(\"edsab\")"
   ]
  },
  {
   "cell_type": "markdown",
   "metadata": {},
   "source": [
    "Insertion Sort"
   ]
  },
  {
   "cell_type": "code",
   "execution_count": 89,
   "metadata": {},
   "outputs": [
    {
     "name": "stdout",
     "output_type": "stream",
     "text": [
      "[2, 5, -3, 4, 6, -7, 1, 9, 12, 5, -6]\n",
      "[-3, 2, 5, 4, 6, -7, 1, 9, 12, 5, -6]\n",
      "[-3, 2, 4, 5, 6, -7, 1, 9, 12, 5, -6]\n",
      "[-3, 2, 4, 5, 6, -7, 1, 9, 12, 5, -6]\n",
      "[-7, -3, 2, 4, 5, 6, 1, 9, 12, 5, -6]\n",
      "[-7, -3, 1, 2, 4, 5, 6, 9, 12, 5, -6]\n",
      "[-7, -3, 1, 2, 4, 5, 6, 9, 12, 5, -6]\n",
      "[-7, -3, 1, 2, 4, 5, 6, 9, 12, 5, -6]\n",
      "[-7, -3, 1, 2, 4, 5, 5, 6, 9, 12, -6]\n",
      "[-7, -6, -3, 1, 2, 4, 5, 5, 6, 9, 12]\n"
     ]
    }
   ],
   "source": [
    "A = [5, 2, -3, 4, 6, -7, 1, 9, 12, 5, -6]\n",
    "\n",
    "for k in range(1, len(A)):\n",
    "    item = A[k]\n",
    "    i = k\n",
    "\n",
    "    while i > 0 and A[i-1] > item:\n",
    "        A[i] = A[i-1]\n",
    "        i -= 1\n",
    "\n",
    "    A[i] = item\n",
    "    print(A)"
   ]
  },
  {
   "cell_type": "code",
   "execution_count": null,
   "metadata": {},
   "outputs": [],
   "source": []
  }
 ],
 "metadata": {
  "kernelspec": {
   "display_name": "venv7",
   "language": "python",
   "name": "python3"
  },
  "language_info": {
   "codemirror_mode": {
    "name": "ipython",
    "version": 3
   },
   "file_extension": ".py",
   "mimetype": "text/x-python",
   "name": "python",
   "nbconvert_exporter": "python",
   "pygments_lexer": "ipython3",
   "version": "3.9.6"
  }
 },
 "nbformat": 4,
 "nbformat_minor": 2
}
