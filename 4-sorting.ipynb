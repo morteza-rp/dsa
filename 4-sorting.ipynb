{
 "cells": [
  {
   "cell_type": "markdown",
   "metadata": {},
   "source": [
    "Counting Sort  \n",
    "\n",
    "A = array  \n",
    "n = length of array  \n",
    "m = maximum element in array  "
   ]
  },
  {
   "cell_type": "code",
   "execution_count": 17,
   "metadata": {},
   "outputs": [
    {
     "name": "stdout",
     "output_type": "stream",
     "text": [
      "[0, 3, 4, 2, 1, 1]\n",
      "[1, 1, 1, 2, 2, 2, 2, 3, 3, 4, 5]\n"
     ]
    }
   ],
   "source": [
    "A = [1, 2, 2, 2, 1, 3, 3, 1, 2, 4, 5]\n",
    "n = len(A)\n",
    "m = max(A)\n",
    "count = [0] * (m+1)\n",
    "\n",
    "for x in A:\n",
    "    count[x] += 1\n",
    "print(count)\n",
    "\n",
    "s=[]\n",
    "for i in range(m+1):\n",
    "    s += [i] * count[i]\n",
    "print(s)"
   ]
  },
  {
   "cell_type": "code",
   "execution_count": 12,
   "metadata": {},
   "outputs": [
    {
     "data": {
      "text/plain": [
       "'abdes'"
      ]
     },
     "execution_count": 12,
     "metadata": {},
     "output_type": "execute_result"
    }
   ],
   "source": [
    "def char_countSort(arr):\n",
    "    n = len(arr)\n",
    "    freq=[0 for i in range(256)] \n",
    "\n",
    "    for char in arr:\n",
    "        freq[ord(char)]+=1\n",
    "    \n",
    "    arr = \"\"\n",
    "    for i in range(256):\n",
    "        for j in range(freq[i]):\n",
    "            arr += chr(i)    \n",
    "    return arr\n",
    "\n",
    "char_countSort(\"edsab\")"
   ]
  },
  {
   "cell_type": "markdown",
   "metadata": {},
   "source": [
    "Insertion Sort"
   ]
  },
  {
   "cell_type": "code",
   "execution_count": 9,
   "metadata": {},
   "outputs": [
    {
     "name": "stdout",
     "output_type": "stream",
     "text": [
      "[-7, -6, -3, 1, 2, 4, 5, 5, 6, 9, 12]\n"
     ]
    }
   ],
   "source": [
    "A = [5, 2, -3, 4, 6, -7, 1, 9, 12, 5, -6]\n",
    "\n",
    "for k in range(1, len(A)):\n",
    "    item = A[k]\n",
    "    i = k\n",
    "\n",
    "    while i > 0 and A[i-1] > item:\n",
    "        A[i] = A[i-1]\n",
    "        i -= 1\n",
    "\n",
    "    A[i] = item\n",
    "print(A)\n",
    "\n"
   ]
  },
  {
   "cell_type": "markdown",
   "metadata": {},
   "source": [
    "Bubble Sort"
   ]
  },
  {
   "cell_type": "code",
   "execution_count": 45,
   "metadata": {},
   "outputs": [
    {
     "name": "stdout",
     "output_type": "stream",
     "text": [
      "[0, 5, 12, 3, 4, 7, 1, 2, 6, 19, 8, 13, 4, 10, 16]\n",
      "[0, 1, 5, 12, 3, 4, 7, 2, 4, 6, 19, 8, 13, 10, 16]\n",
      "[0, 1, 2, 5, 12, 3, 4, 7, 4, 6, 8, 19, 10, 13, 16]\n",
      "[0, 1, 2, 3, 5, 12, 4, 4, 7, 6, 8, 10, 19, 13, 16]\n",
      "[0, 1, 2, 3, 4, 5, 12, 4, 6, 7, 8, 10, 13, 19, 16]\n",
      "[0, 1, 2, 3, 4, 4, 5, 12, 6, 7, 8, 10, 13, 16, 19]\n",
      "[0, 1, 2, 3, 4, 4, 5, 6, 12, 7, 8, 10, 13, 16, 19]\n",
      "[0, 1, 2, 3, 4, 4, 5, 6, 7, 12, 8, 10, 13, 16, 19]\n",
      "[0, 1, 2, 3, 4, 4, 5, 6, 7, 8, 12, 10, 13, 16, 19]\n",
      "[0, 1, 2, 3, 4, 4, 5, 6, 7, 8, 10, 12, 13, 16, 19]\n"
     ]
    }
   ],
   "source": [
    "A = [5, 12, 3, 4, 7, 1, 0, 6, 19, 8, 13, 4, 2, 10, 16]\n",
    "n = len(A)\n",
    "\n",
    "for i in range(n-1):\n",
    "    bubble_found = False\n",
    "    for j in range(n-1, i, -1):\n",
    "        if A[j] < A[j-1]:\n",
    "            A[j],A[j-1] = A[j-1], A[j]      # Swap a bubble\n",
    "            bubble_found = True\n",
    "    if not bubble_found:     # Stopping when array is sorted\n",
    "        break            \n",
    "    print(A)\n"
   ]
  },
  {
   "cell_type": "code",
   "execution_count": 99,
   "metadata": {},
   "outputs": [
    {
     "data": {
      "text/plain": [
       "[0, 1, 2, 3, 4, 4, 5, 6, 7, 8, 10, 12, 13, 16, 19]"
      ]
     },
     "execution_count": 99,
     "metadata": {},
     "output_type": "execute_result"
    }
   ],
   "source": [
    "a = [5, 12, 3, 4, 7, 1, 0, 6, 19, 8, 13, 4, 2, 10, 16]\n",
    "\n",
    "n = max(a)\n",
    "l = [0]*(n+1)\n",
    "\n",
    "for i in a:\n",
    "    l[i] += 1\n",
    "\n",
    "s = []\n",
    "for j in range(n+1):\n",
    "    s += [j]*l[j]\n",
    "\n",
    "s\n"
   ]
  }
 ],
 "metadata": {
  "kernelspec": {
   "display_name": "venv7",
   "language": "python",
   "name": "python3"
  },
  "language_info": {
   "codemirror_mode": {
    "name": "ipython",
    "version": 3
   },
   "file_extension": ".py",
   "mimetype": "text/x-python",
   "name": "python",
   "nbconvert_exporter": "python",
   "pygments_lexer": "ipython3",
   "version": "3.9.6"
  }
 },
 "nbformat": 4,
 "nbformat_minor": 2
}
