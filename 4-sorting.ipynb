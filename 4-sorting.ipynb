{
 "cells": [
  {
   "cell_type": "markdown",
   "metadata": {},
   "source": [
    "Counting Sort  \n",
    "\n",
    "A = array  \n",
    "n = length of array  \n",
    "m = maximum element in array  "
   ]
  },
  {
   "cell_type": "code",
   "execution_count": 17,
   "metadata": {},
   "outputs": [
    {
     "name": "stdout",
     "output_type": "stream",
     "text": [
      "[0, 3, 4, 2, 1, 1]\n",
      "[1, 1, 1, 2, 2, 2, 2, 3, 3, 4, 5]\n"
     ]
    }
   ],
   "source": [
    "A = [1, 2, 2, 2, 1, 3, 3, 1, 2, 4, 5]\n",
    "n = len(A)\n",
    "m = max(A)\n",
    "count = [0] * (m+1)\n",
    "\n",
    "for x in A:\n",
    "    count[x] += 1\n",
    "print(count)\n",
    "\n",
    "s=[]\n",
    "for i in range(m+1):\n",
    "    s += [i] * count[i]\n",
    "print(s)"
   ]
  },
  {
   "cell_type": "code",
   "execution_count": 12,
   "metadata": {},
   "outputs": [
    {
     "data": {
      "text/plain": [
       "'abdes'"
      ]
     },
     "execution_count": 12,
     "metadata": {},
     "output_type": "execute_result"
    }
   ],
   "source": [
    "def char_countSort(arr):\n",
    "    n = len(arr)\n",
    "    freq=[0 for i in range(256)] \n",
    "\n",
    "    for char in arr:\n",
    "        freq[ord(char)]+=1\n",
    "    \n",
    "    arr = \"\"\n",
    "    for i in range(256):\n",
    "        for j in range(freq[i]):\n",
    "            arr += chr(i)    \n",
    "    return arr\n",
    "\n",
    "char_countSort(\"edsab\")"
   ]
  },
  {
   "cell_type": "markdown",
   "metadata": {},
   "source": [
    "Insertion Sort"
   ]
  },
  {
   "cell_type": "code",
   "execution_count": 9,
   "metadata": {},
   "outputs": [
    {
     "name": "stdout",
     "output_type": "stream",
     "text": [
      "[-7, -6, -3, 1, 2, 4, 5, 5, 6, 9, 12]\n"
     ]
    }
   ],
   "source": [
    "A = [5, 2, -3, 4, 6, -7, 1, 9, 12, 5, -6]\n",
    "\n",
    "for k in range(1, len(A)):\n",
    "    item = A[k]\n",
    "    i = k\n",
    "\n",
    "    while i > 0 and A[i-1] > item:\n",
    "        A[i] = A[i-1]\n",
    "        i -= 1\n",
    "\n",
    "    A[i] = item\n",
    "print(A)\n",
    "\n"
   ]
  },
  {
   "cell_type": "markdown",
   "metadata": {},
   "source": [
    "Bubble Sort"
   ]
  },
  {
   "cell_type": "code",
   "execution_count": 45,
   "metadata": {},
   "outputs": [
    {
     "name": "stdout",
     "output_type": "stream",
     "text": [
      "[0, 5, 12, 3, 4, 7, 1, 2, 6, 19, 8, 13, 4, 10, 16]\n",
      "[0, 1, 5, 12, 3, 4, 7, 2, 4, 6, 19, 8, 13, 10, 16]\n",
      "[0, 1, 2, 5, 12, 3, 4, 7, 4, 6, 8, 19, 10, 13, 16]\n",
      "[0, 1, 2, 3, 5, 12, 4, 4, 7, 6, 8, 10, 19, 13, 16]\n",
      "[0, 1, 2, 3, 4, 5, 12, 4, 6, 7, 8, 10, 13, 19, 16]\n",
      "[0, 1, 2, 3, 4, 4, 5, 12, 6, 7, 8, 10, 13, 16, 19]\n",
      "[0, 1, 2, 3, 4, 4, 5, 6, 12, 7, 8, 10, 13, 16, 19]\n",
      "[0, 1, 2, 3, 4, 4, 5, 6, 7, 12, 8, 10, 13, 16, 19]\n",
      "[0, 1, 2, 3, 4, 4, 5, 6, 7, 8, 12, 10, 13, 16, 19]\n",
      "[0, 1, 2, 3, 4, 4, 5, 6, 7, 8, 10, 12, 13, 16, 19]\n"
     ]
    }
   ],
   "source": [
    "A = [5, 12, 3, 4, 7, 1, 0, 6, 19, 8, 13, 4, 2, 10, 16]\n",
    "n = len(A)\n",
    "\n",
    "for i in range(n-1):\n",
    "    bubble_found = False\n",
    "    for j in range(n-1, i, -1):\n",
    "        if A[j] < A[j-1]:\n",
    "            A[j],A[j-1] = A[j-1], A[j]      # Swap a bubble\n",
    "            bubble_found = True\n",
    "    if not bubble_found:     # Stopping when array is sorted\n",
    "        break            \n",
    "    print(A)\n"
   ]
  },
  {
   "cell_type": "markdown",
   "metadata": {},
   "source": [
    "Selection Sort"
   ]
  },
  {
   "cell_type": "code",
   "execution_count": 184,
   "metadata": {},
   "outputs": [
    {
     "data": {
      "text/plain": [
       "[-4, -1, 0, 3, 6, 6, 7, 11, 12, 15]"
      ]
     },
     "execution_count": 184,
     "metadata": {},
     "output_type": "execute_result"
    }
   ],
   "source": [
    "a = [12, 3, 15, -4, 7, 6, -1, 0, 11, 6]\n",
    "\n",
    "n = len(a)\n",
    "for i in range(n-1):\n",
    "    index = i           # The index of min remaining item\n",
    "    for j in range(i+1, n):      \n",
    "        if a[index] > a[j]:  # Finding min remaining item\n",
    "            index = j\n",
    "    a[i], a[index] = a[index], a[i]                # Swap\n",
    "\n",
    "a"
   ]
  },
  {
   "cell_type": "markdown",
   "metadata": {},
   "source": [
    "Merge sort"
   ]
  },
  {
   "cell_type": "code",
   "execution_count": 14,
   "metadata": {},
   "outputs": [
    {
     "data": {
      "text/plain": [
       "[0, 1, 2, 3, 4, 5, 9, 11, 67]"
      ]
     },
     "execution_count": 14,
     "metadata": {},
     "output_type": "execute_result"
    }
   ],
   "source": [
    "def mergesort(arr):\n",
    "\n",
    "    if not arr:\n",
    "        raise ValueError(\"Input array cannot be empty.\")\n",
    "\n",
    "    if len(arr) < 2:\n",
    "        return arr\n",
    "\n",
    "    mid = len(arr) // 2\n",
    "    left = arr[:mid]\n",
    "    right = arr[mid:]\n",
    "    # print(left, right)\n",
    "    left = mergesort(left)\n",
    "    right = mergesort(right)\n",
    "    \n",
    "    i = j = k = 0\n",
    "    while i < len(left) and j < len(right):\n",
    "        if left[i] <= right[j]:\n",
    "            arr[k] = left[i]\n",
    "            i += 1\n",
    "        else:\n",
    "            arr[k] = right[j]\n",
    "            j += 1\n",
    "        k += 1\n",
    "\n",
    "    while i < len(left):\n",
    "        arr[k] = left[i]\n",
    "        i += 1\n",
    "        k += 1\n",
    "\n",
    "    while j < len(right):\n",
    "        arr[k] = right[j]\n",
    "        j += 1\n",
    "        k += 1\n",
    "\n",
    "    return arr\n",
    "\n",
    "\n",
    "mergesort([4,5,2,3,11,1,67,9,0])"
   ]
  },
  {
   "cell_type": "markdown",
   "metadata": {},
   "source": [
    "Bucket Sort"
   ]
  },
  {
   "cell_type": "code",
   "execution_count": 56,
   "metadata": {},
   "outputs": [
    {
     "data": {
      "text/plain": [
       "[1, 2, 5, 37, 54, 66, 88, 99]"
      ]
     },
     "execution_count": 56,
     "metadata": {},
     "output_type": "execute_result"
    }
   ],
   "source": [
    "def bubble_sort(a):\n",
    "    n = len(a)\n",
    "    for i in range(n-1):\n",
    "        bubble_found = False\n",
    "        for j in range(n-1, i, -1):\n",
    "            if a[j] < a[j-1]:\n",
    "                a[j], a[j-1] = a[j-1], a[j]\n",
    "                bubble_found = True\n",
    "        if bubble_found == False:\n",
    "            break\n",
    "    return a\n",
    "\n",
    "\n",
    "def bucket_sort(a):\n",
    "    n = len(a)\n",
    "    b = [[] for i in range(10)]\n",
    "\n",
    "    for i in a:\n",
    "        b[i//10] += [i]\n",
    "    \n",
    "    s=[]\n",
    "    for i in range(len(b)):\n",
    "        s += bubble_sort(b[i])\n",
    "    return s\n",
    "\n",
    "\n",
    "bucket_sort([66,54,37,88,99,1,2,5])"
   ]
  }
 ],
 "metadata": {
  "kernelspec": {
   "display_name": "venv7",
   "language": "python",
   "name": "python3"
  },
  "language_info": {
   "codemirror_mode": {
    "name": "ipython",
    "version": 3
   },
   "file_extension": ".py",
   "mimetype": "text/x-python",
   "name": "python",
   "nbconvert_exporter": "python",
   "pygments_lexer": "ipython3",
   "version": "3.9.6"
  }
 },
 "nbformat": 4,
 "nbformat_minor": 2
}
