{
 "cells": [
  {
   "cell_type": "markdown",
   "metadata": {},
   "source": [
    "**What is recursion?**  \n",
    "A process (a function in our case) that calls itself  \n",
    "\n",
    "**How recursive functions work**  \n",
    "Invoke the same function with a different input until you reach your **base case!**  \n",
    "\n",
    "**Base Case:** The condition when the `recursion ends`. This is the most important concept to understand  \n",
    "\n",
    "**Two essential parts of a recursive function:**  \n",
    "`Base Case`  \n",
    "`Different Input`\n"
   ]
  },
  {
   "cell_type": "code",
   "execution_count": null,
   "metadata": {},
   "outputs": [],
   "source": [
    "def countDown(num):\n",
    "    if num <= 0:\n",
    "        print(\"All done!\")\n",
    "        return\n",
    "    print(num)\n",
    "    countDown(num-1)\n",
    "\n",
    "countDown(10)"
   ]
  },
  {
   "cell_type": "code",
   "execution_count": 53,
   "metadata": {},
   "outputs": [
    {
     "data": {
      "text/plain": [
       "0"
      ]
     },
     "execution_count": 53,
     "metadata": {},
     "output_type": "execute_result"
    }
   ],
   "source": [
    "def sumrange(num):\n",
    "    if num==0:\n",
    "        return 0\n",
    "    return num + sumrange(num-1)\n",
    "\n",
    "sumrange(0)"
   ]
  },
  {
   "cell_type": "code",
   "execution_count": 75,
   "metadata": {},
   "outputs": [
    {
     "data": {
      "text/plain": [
       "6"
      ]
     },
     "execution_count": 75,
     "metadata": {},
     "output_type": "execute_result"
    }
   ],
   "source": [
    "def factorial(num):\n",
    "    if num==1:\n",
    "        return 1\n",
    "    return num*factorial(num-1)\n",
    "\n",
    "factorial(3)"
   ]
  },
  {
   "cell_type": "code",
   "execution_count": 104,
   "metadata": {},
   "outputs": [
    {
     "data": {
      "text/plain": [
       "[1, 3, 5, 7, 9]"
      ]
     },
     "execution_count": 104,
     "metadata": {},
     "output_type": "execute_result"
    }
   ],
   "source": [
    "# HELPER METHOD RECURSION\n",
    "# Let's try to collect all of the odd values in an array!\n",
    "\n",
    "def collectOddValues(arr):\n",
    "    result = []\n",
    "\n",
    "    def helper(array):\n",
    "        if len(array) == 0:\n",
    "            return \n",
    "\n",
    "        if array[0] % 2 != 0:\n",
    "            result.append(array[0])\n",
    "\n",
    "        helper(array[1:])\n",
    "\n",
    "    helper(arr)\n",
    "    return result\n",
    "\n",
    "\n",
    "collectOddValues([1,2,3,4,5,6,7,8,9])"
   ]
  },
  {
   "cell_type": "code",
   "execution_count": 111,
   "metadata": {},
   "outputs": [
    {
     "data": {
      "text/plain": [
       "[1, 3, 5, 7, 9]"
      ]
     },
     "execution_count": 111,
     "metadata": {},
     "output_type": "execute_result"
    }
   ],
   "source": [
    "# PURE RECURSION\n",
    "\n",
    "def collectOddValues(arr):\n",
    "    newArr = []\n",
    "\n",
    "    if len(arr) == 0:\n",
    "        return newArr\n",
    "\n",
    "    if arr[0] % 2 != 0:\n",
    "        newArr.append(arr[0])\n",
    "\n",
    "    newArr = newArr + collectOddValues(arr[1:])\n",
    "    return newArr\n",
    "\n",
    "\n",
    "collectOddValues([1,2,3,4,5,6,7,8,9])"
   ]
  },
  {
   "cell_type": "markdown",
   "metadata": {},
   "source": [
    "**problem set**"
   ]
  },
  {
   "cell_type": "code",
   "execution_count": 124,
   "metadata": {},
   "outputs": [
    {
     "data": {
      "text/plain": [
       "['Car', 'Taco', 'Banana']"
      ]
     },
     "execution_count": 124,
     "metadata": {},
     "output_type": "execute_result"
    }
   ],
   "source": [
    "# capitalizeFirst\n",
    "# Write a recursive function called capitalizeFirst.\n",
    "# Given an array of strings, capitalize the first letter of each string in the array.\n",
    "\n",
    "def capitalizeFirst(arr):\n",
    "    new = []\n",
    "    if len(arr) == 0:\n",
    "        return new\n",
    "    \n",
    "    cap = arr[0].capitalize()\n",
    "    new.append(cap)\n",
    "    new = new + capitalizeFirst(arr[1:])\n",
    "    return new\n",
    "\n",
    "capitalizeFirst(['car', 'taco', 'banana'])"
   ]
  },
  {
   "cell_type": "code",
   "execution_count": 194,
   "metadata": {},
   "outputs": [
    {
     "data": {
      "text/plain": [
       "['2', '3']"
      ]
     },
     "execution_count": 194,
     "metadata": {},
     "output_type": "execute_result"
    }
   ],
   "source": [
    "# collectStrings\n",
    "# Write a function called collectStrings which accepts an object and\n",
    "# returns an array of all the values in the object that have a type of string.\n",
    "\n",
    "def collectStrings(obj):\n",
    "    result = []\n",
    "\n",
    "    for key in obj:\n",
    "        \n",
    "        if type(obj[key]) is str:\n",
    "          result.append(obj[key])\n",
    "\n",
    "        elif type(obj[key]) is dict:\n",
    "          result += collectStrings(obj[key])\n",
    "\n",
    "    return result\n",
    "\n",
    "collectStrings({\"a\": 1, \"b\": \"2\", \"c\": {\"d\": \"3\"}})"
   ]
  },
  {
   "cell_type": "code",
   "execution_count": 202,
   "metadata": {},
   "outputs": [
    {
     "data": {
      "text/plain": [
       "5"
      ]
     },
     "execution_count": 202,
     "metadata": {},
     "output_type": "execute_result"
    }
   ],
   "source": [
    "# Write a recursive function called fib which accepts a number and returns the nth number in the Fibonacci sequence.\n",
    "def fib(num):\n",
    "    if num < 2:\n",
    "        return num\n",
    "    return fib(num - 1) + fib(num - 2)\n",
    "\n",
    "fib(5)"
   ]
  },
  {
   "cell_type": "code",
   "execution_count": 212,
   "metadata": {},
   "outputs": [
    {
     "data": {
      "text/plain": [
       "[1, 2, 3, 4, 5, 'da', 2]"
      ]
     },
     "execution_count": 212,
     "metadata": {},
     "output_type": "execute_result"
    }
   ],
   "source": [
    "# flatten\n",
    "# Write a recursive function called flatten which accepts an array of arrays and returns a new array with all values flattened.\n",
    "\n",
    "def flatten(arr):\n",
    "    l = []\n",
    "\n",
    "    for i in arr:\n",
    "        if isinstance(i, str):\n",
    "            l.append(i)\n",
    "        if isinstance(i, int):\n",
    "            l.append(i)\n",
    "        elif isinstance(i, list):\n",
    "            l += flatten(i)\n",
    "    return l\n",
    "\n",
    "flatten([1,2,[3,4,5], [[\"da\",2]]])"
   ]
  },
  {
   "cell_type": "code",
   "execution_count": 228,
   "metadata": {},
   "outputs": [
    {
     "data": {
      "text/plain": [
       "True"
      ]
     },
     "execution_count": 228,
     "metadata": {},
     "output_type": "execute_result"
    }
   ],
   "source": [
    "# isPalindrome\n",
    "# Write a recursive function called isPalindrome which returns true if the string passed to it is a palindrome (reads the same forward and backward) Otherwise it returns false.\n",
    "\n",
    "def isPalindrome(str):\n",
    "    if not len(str):\n",
    "        return True\n",
    "    if str[0] != str[-1]:\n",
    "        return False\n",
    "    return isPalindrome(str[1:-1])\n",
    "\n",
    "isPalindrome(\"aba\")"
   ]
  },
  {
   "cell_type": "code",
   "execution_count": 268,
   "metadata": {},
   "outputs": [
    {
     "data": {
      "text/plain": [
       "34"
      ]
     },
     "execution_count": 268,
     "metadata": {},
     "output_type": "execute_result"
    }
   ],
   "source": [
    "# nestedEvenSum\n",
    "# Write a recursive function called nestedEvenSum. Return the sum of all even numbers in an object which may contain nested objects.\n",
    "\n",
    "def nestedEvenSum(dic):\n",
    "    s=0\n",
    "    for i in dic:\n",
    "        if isinstance(dic[i], int) and dic[i]%2==0:\n",
    "            s+=dic[i]\n",
    "        if isinstance(dic[i], dict):\n",
    "            s+=nestedEvenSum(dic[i])\n",
    "    return s\n",
    "\n",
    "obj1 = {'outer': 26, 'obj': {'inner': 8,'otherObj': {'notANumber': True,'alsoNotANumber': 'yup'}}}\n",
    "\n",
    "nestedEvenSum(obj1)\n"
   ]
  },
  {
   "cell_type": "code",
   "execution_count": 269,
   "metadata": {},
   "outputs": [
    {
     "data": {
      "text/plain": [
       "6"
      ]
     },
     "execution_count": 269,
     "metadata": {},
     "output_type": "execute_result"
    }
   ],
   "source": [
    "# productOfArray\n",
    "# Write a function called productOfArray which takes in an array of numbers and returns the product of them all.\n",
    "\n",
    "def productOfArray(arr):\n",
    "    if len(arr)==0:\n",
    "        return 1\n",
    "    return arr[0]*productOfArray(arr[1:])\n",
    "\n",
    "productOfArray([1,2,3])"
   ]
  },
  {
   "cell_type": "code",
   "execution_count": 275,
   "metadata": {},
   "outputs": [
    {
     "data": {
      "text/plain": [
       "'ih'"
      ]
     },
     "execution_count": 275,
     "metadata": {},
     "output_type": "execute_result"
    }
   ],
   "source": [
    "# reverse\n",
    "# Write a recursive function called reverse which accepts a string and returns a new string in reverse.\n",
    "\n",
    "def reverse(str):\n",
    "    if len(str) <= 1:\n",
    "        return str\n",
    "\n",
    "    return str[-1] + reverse(str[:-1])\n",
    "\n",
    "reverse('hi')"
   ]
  },
  {
   "cell_type": "code",
   "execution_count": 281,
   "metadata": {},
   "outputs": [
    {
     "data": {
      "text/plain": [
       "True"
      ]
     },
     "execution_count": 281,
     "metadata": {},
     "output_type": "execute_result"
    }
   ],
   "source": [
    "# someRecursive\n",
    "# Write a recursive function called someRecursive which accepts an array and a callback. The function returns true if a single value in the array returns true\n",
    "# when passed to the callback. Otherwise it returns false.\n",
    "\n",
    "def someRecursive(arr, cb):\n",
    "    if not arr:\n",
    "        return False\n",
    "    \n",
    "    if not cb(arr[0]):\n",
    "        return someRecursive(arr[1:], cb)\n",
    "    \n",
    "    return True\n",
    "\n",
    "someRecursive([4, 6, 8, 9], lambda x: x%2 != 0)"
   ]
  },
  {
   "cell_type": "code",
   "execution_count": 305,
   "metadata": {},
   "outputs": [
    {
     "data": {
      "text/plain": [
       "{'num': '1',\n",
       " 'test': [],\n",
       " 'data': {'val': '4', 'info': {'isRight': 'True', 'random': '66'}}}"
      ]
     },
     "execution_count": 305,
     "metadata": {},
     "output_type": "execute_result"
    }
   ],
   "source": [
    "# stringifyNumbers\n",
    "# Write a function called stringifyNumbers which takes in an object and finds all of the values which are numbers and converts them to strings.\n",
    "# Recursion would be a great way to solve this!\n",
    "\n",
    "def stringifyNumbers(dic):\n",
    "\n",
    "    for key in dic:\n",
    "        if isinstance(dic[key], int):\n",
    "            dic[key] = str(dic[key])\n",
    "\n",
    "        if isinstance(dic[key], bool):\n",
    "            dic[key] = dic[key]\n",
    "        \n",
    "        if isinstance(dic[key], dict):\n",
    "            stringifyNumbers(dic[key])\n",
    "    return dic\n",
    "\n",
    "\n",
    "obj = {\"num\": 1,\"test\": [],\"data\": {\"val\": 4,\"info\": {\"isRight\": True,\"random\": 66}}}\n",
    "\n",
    "stringifyNumbers(obj)"
   ]
  },
  {
   "cell_type": "code",
   "execution_count": null,
   "metadata": {},
   "outputs": [],
   "source": []
  },
  {
   "attachments": {
    "5steps.jpg": {
     "image/jpeg": "[encoded data removed]"
    }
   },
   "cell_type": "markdown",
   "metadata": {},
   "source": [
    "![5steps.jpg](attachment:5steps.jpg)"
   ]
  },
  {
   "cell_type": "code",
   "execution_count": 44,
   "metadata": {},
   "outputs": [
    {
     "data": {
      "text/plain": [
       "15"
      ]
     },
     "execution_count": 44,
     "metadata": {},
     "output_type": "execute_result"
    }
   ],
   "source": [
    "def sum(n):\n",
    "    if n==0:\n",
    "        return 0\n",
    "    else:\n",
    "        return n + sum(n-1)\n",
    "\n",
    "sum(5)"
   ]
  },
  {
   "attachments": {
    "gr1.jpg": {
     "image/jpeg": "[encoded data removed]"
    },
    "gr2.jpg": {
     "image/jpeg": "[encoded data removed]"
    }
   },
   "cell_type": "markdown",
   "metadata": {},
   "source": [
    "![gr1.jpg](attachment:gr1.jpg)  ![gr2.jpg](attachment:gr2.jpg)"
   ]
  },
  {
   "cell_type": "code",
   "execution_count": 47,
   "metadata": {},
   "outputs": [
    {
     "data": {
      "text/plain": [
       "3"
      ]
     },
     "execution_count": 47,
     "metadata": {},
     "output_type": "execute_result"
    }
   ],
   "source": [
    "def grid_paths(n, m):\n",
    "    if n==1 or m==1:\n",
    "        return 1\n",
    "    else:\n",
    "        return grid_paths(n-1, m) + grid_paths(n, m-1)\n",
    "\n",
    "grid_paths(2,3)"
   ]
  },
  {
   "cell_type": "code",
   "execution_count": 49,
   "metadata": {},
   "outputs": [
    {
     "data": {
      "text/plain": [
       "3"
      ]
     },
     "execution_count": 49,
     "metadata": {},
     "output_type": "execute_result"
    }
   ],
   "source": [
    "def count_partitions(n, m):\n",
    "    if n==0:\n",
    "        return 1\n",
    "    elif m==0 or n<0:\n",
    "        return 0\n",
    "    else:\n",
    "        return count_partitions(n-m, m) + count_partitions(n, m-1)\n",
    "\n",
    "count_partitions(4,2)"
   ]
  },
  {
   "cell_type": "code",
   "execution_count": 34,
   "metadata": {},
   "outputs": [
    {
     "name": "stdout",
     "output_type": "stream",
     "text": [
      "9 27 140 11 36 6 2 1\n"
     ]
    }
   ],
   "source": [
    "    \n",
    "def jugglerSequence(N):\n",
    "    \n",
    "    res = []\n",
    "    res.append(N)\n",
    "    \n",
    "    while N > 1:\n",
    "        \n",
    "        if N % 2:\n",
    "            N = int((N ** 0.5) * N)\n",
    "        \n",
    "        else:\n",
    "            N = int(N ** 0.5)\n",
    "        \n",
    "        res.append(N)\n",
    "    \n",
    "    print(*res) \n",
    "    \n",
    "jugglerSequence(9)"
   ]
  },
  {
   "cell_type": "code",
   "execution_count": 58,
   "metadata": {},
   "outputs": [
    {
     "data": {
      "text/plain": [
       "0"
      ]
     },
     "execution_count": 58,
     "metadata": {},
     "output_type": "execute_result"
    }
   ],
   "source": [
    "def absDiff(arr, idx, sumB, sumC):\n",
    "    if idx == len(arr):\n",
    "        return int(abs(sumB*sumB - sumC*sumC))\n",
    "    \n",
    "    diff1 = absDiff(arr, idx+1, sumB+arr[idx], sumC)\n",
    "    \n",
    "    diff2 = absDiff(arr, idx+1, sumB, sumC+arr[idx])\n",
    "    \n",
    "    return min(diff1, diff2)\n",
    "\n",
    "absDiff([1,2,3],0,0,0)"
   ]
  },
  {
   "cell_type": "code",
   "execution_count": 4,
   "metadata": {},
   "outputs": [
    {
     "data": {
      "text/plain": [
       "[1, 6]"
      ]
     },
     "execution_count": 4,
     "metadata": {},
     "output_type": "execute_result"
    }
   ],
   "source": [
    "def poly_derivative(p,n=0):\n",
    "    if n==0:\n",
    "        return poly_derivative(p[1:],n=n+1)\n",
    "    if len(p)==0:\n",
    "        return []\n",
    "    return [p[0]*n]+poly_derivative(p[1:],n=n+1)\n",
    "\n",
    "poly_derivative([9, 1, 3])"
   ]
  },
  {
   "cell_type": "code",
   "execution_count": 15,
   "metadata": {},
   "outputs": [
    {
     "data": {
      "text/plain": [
       "30"
      ]
     },
     "execution_count": 15,
     "metadata": {},
     "output_type": "execute_result"
    }
   ],
   "source": [
    "def sumsquares(arr):\n",
    "    s=0\n",
    "    for i in arr:\n",
    "        if isinstance(i,int):\n",
    "            s+=i**2\n",
    "\n",
    "        if isinstance(i,list):\n",
    "            s+=sumsquares(i)\n",
    "\n",
    "    return s\n",
    "\n",
    "sumsquares([1,2, [3,4]])      \n"
   ]
  },
  {
   "cell_type": "code",
   "execution_count": 53,
   "metadata": {},
   "outputs": [
    {
     "data": {
      "text/plain": [
       "685"
      ]
     },
     "execution_count": 53,
     "metadata": {},
     "output_type": "execute_result"
    }
   ],
   "source": [
    "def reverse(n, acc = 0):\n",
    "    if n == 0:\n",
    "        return acc \n",
    "    else:\n",
    "        return reverse(n//10, acc*10 + n%10)\n",
    "\n",
    "reverse(586)\n",
    "\n",
    "'''\n",
    "n=586 , acc=0\n",
    "n=58 , acc=6\n",
    "n=5 , acc=68\n",
    "n=5, acc=685\n",
    "'''"
   ]
  },
  {
   "cell_type": "code",
   "execution_count": 72,
   "metadata": {},
   "outputs": [
    {
     "data": {
      "text/plain": [
       "4"
      ]
     },
     "execution_count": 72,
     "metadata": {},
     "output_type": "execute_result"
    }
   ],
   "source": [
    "def mygcd(x,y):\n",
    "    if y == 0:\n",
    "        return x \n",
    "    \n",
    "    else:\n",
    "         return mygcd(y, x % y)\n",
    "\n",
    "mygcd(12,8)"
   ]
  },
  {
   "cell_type": "code",
   "execution_count": 73,
   "metadata": {},
   "outputs": [
    {
     "data": {
      "text/plain": [
       "[0, 4, 6, 2, 8, 1, 5]"
      ]
     },
     "execution_count": 73,
     "metadata": {},
     "output_type": "execute_result"
    }
   ],
   "source": [
    "def set_reducer(arr):\n",
    "    if len(arr)==1:\n",
    "        return arr[0]\n",
    "    \n",
    "    s=[]\n",
    "    l=[]\n",
    "    for i in range(1, len(arr)):\n",
    "        if arr[i-1] != arr[i]:\n",
    "            if len(s)>0:\n",
    "                l+=[len(s)]\n",
    "            l+=[arr[i-1]]\n",
    "            s=[]\n",
    "\n",
    "        if arr[i-1] == arr[i]:\n",
    "            s+=[arr[i-1]]\n",
    "    return l\n",
    "\n",
    "set_reducer([0, 4, 6, 8, 8, 8, 5, 5, 7])"
   ]
  },
  {
   "cell_type": "code",
   "execution_count": 94,
   "metadata": {},
   "outputs": [
    {
     "data": {
      "text/plain": [
       "6"
      ]
     },
     "execution_count": 94,
     "metadata": {},
     "output_type": "execute_result"
    }
   ],
   "source": [
    "def squares_needed(grains, n=0):\n",
    "    if grains==0:\n",
    "        return n\n",
    "    \n",
    "    return squares_needed(grains//2, n+1)\n",
    "\n",
    "squares_needed(32)"
   ]
  },
  {
   "cell_type": "code",
   "execution_count": 102,
   "metadata": {},
   "outputs": [
    {
     "data": {
      "text/plain": [
       "[2, 2, 3]"
      ]
     },
     "execution_count": 102,
     "metadata": {},
     "output_type": "execute_result"
    }
   ],
   "source": [
    "def poly_add(p1,p2):\n",
    "    if p1 == []:\n",
    "        return p2\n",
    "    if p2 == []:\n",
    "        return p1\n",
    "    \n",
    "    return [p1[0] + p2[0]] + poly_add(p1[1:], p2[1:])\n",
    "\n",
    "poly_add([1,2,3], [1])"
   ]
  },
  {
   "cell_type": "code",
   "execution_count": 1,
   "metadata": {},
   "outputs": [
    {
     "data": {
      "text/plain": [
       "[[1, 2], [2, 1]]"
      ]
     },
     "execution_count": 1,
     "metadata": {},
     "output_type": "execute_result"
    }
   ],
   "source": [
    "def permuteK(lst, k):\n",
    "    if k == 0:\n",
    "        return [[]]\n",
    "    \n",
    "    permutations = []\n",
    "\n",
    "    for i in range(len(lst)):\n",
    "        m = lst[i]\n",
    "        remLst = lst[:i] + lst[i+1:]\n",
    "        \n",
    "        for p in permuteK(remLst, k-1):\n",
    "            permutations.append([m] + p)\n",
    "\n",
    "    return permutations\n",
    "\n",
    "permuteK([1,2], k=2)"
   ]
  },
  {
   "cell_type": "code",
   "execution_count": 1,
   "metadata": {},
   "outputs": [
    {
     "name": "stdout",
     "output_type": "stream",
     "text": [
      "1 -> 3\n",
      "1 -> 2\n",
      "3 -> 2\n",
      "1 -> 3\n",
      "2 -> 1\n",
      "2 -> 3\n",
      "1 -> 3\n"
     ]
    }
   ],
   "source": [
    "# towers of hanoi\n",
    "\n",
    "\n",
    "def hanoi(n , start, end):\n",
    "    if n==1:\n",
    "        print(f\"{start} -> {end}\")\n",
    "    else:\n",
    "        other = 6 - (start + end)\n",
    "        hanoi(n-1, start, other)\n",
    "        print(f\"{start} -> {end}\")\n",
    "        hanoi(n-1, other, end)\n",
    "\n",
    "hanoi(3, 1, 3)\n"
   ]
  },
  {
   "cell_type": "code",
   "execution_count": 8,
   "metadata": {},
   "outputs": [
    {
     "name": "stdout",
     "output_type": "stream",
     "text": [
      "Move disk 1 from source A to destination C\n",
      "Move disk 2 from source A to destination B\n",
      "Move disk 1 from source C to destination B\n",
      "Move disk 3 from source A to destination C\n",
      "Move disk 1 from source B to destination A\n",
      "Move disk 2 from source B to destination C\n",
      "Move disk 1 from source A to destination C\n"
     ]
    }
   ],
   "source": [
    "# Recursive Python function to solve the tower of hanoi\n",
    "\n",
    "def TowerOfHanoi(n , source, destination, middle):\n",
    "    if n==1:\n",
    "        print (\"Move disk 1 from source\",source,\"to destination\",destination)\n",
    "        return\n",
    "        \n",
    "    TowerOfHanoi(n-1, source, middle, destination)\n",
    "\n",
    "    print (\"Move disk\",n,\"from source\",source,\"to destination\",destination)\n",
    "\n",
    "    TowerOfHanoi(n-1, middle, destination, source)\n",
    "\n",
    "\n",
    "TowerOfHanoi(3,'A', 'C', 'B') "
   ]
  },
  {
   "cell_type": "code",
   "execution_count": 21,
   "metadata": {},
   "outputs": [
    {
     "name": "stdout",
     "output_type": "stream",
     "text": [
      "Move disk 1 from source A to destination B\n",
      "Move disk 2 from source A to destination C\n",
      "Move disk 1 from source B to destination C\n"
     ]
    }
   ],
   "source": [
    "# Recursive Python function to solve tower of hanoi \n",
    "def TowerOfHanoi(n, source, destination, auxiliary): \n",
    "    if n == 0: \n",
    "        return None\n",
    "    \n",
    "    else:\n",
    "        TowerOfHanoi(n-1, source, auxiliary, destination) \n",
    "\n",
    "        print (\"Move disk\",n,\"from source\",source,\"to destination\",destination) \n",
    "\n",
    "        TowerOfHanoi(n-1, auxiliary, destination, source) \n",
    "\n",
    "# A, C, B are the name of rods \n",
    "TowerOfHanoi(2, 'A', 'C', 'B') "
   ]
  }
 ],
 "metadata": {
  "kernelspec": {
   "display_name": "python3116.venv",
   "language": "python",
   "name": "python3"
  },
  "language_info": {
   "codemirror_mode": {
    "name": "ipython",
    "version": 3
   },
   "file_extension": ".py",
   "mimetype": "text/x-python",
   "name": "python",
   "nbconvert_exporter": "python",
   "pygments_lexer": "ipython3",
   "version": "3.11.6"
  }
 },
 "nbformat": 4,
 "nbformat_minor": 2
}
