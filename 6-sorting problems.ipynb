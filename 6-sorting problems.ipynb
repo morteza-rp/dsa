{
 "cells": [
  {
   "cell_type": "code",
   "execution_count": 12,
   "metadata": {},
   "outputs": [
    {
     "name": "stdout",
     "output_type": "stream",
     "text": [
      "3\n",
      "9\n",
      "10\n"
     ]
    }
   ],
   "source": [
    "unsorted = [int(input()) for i in range(int(input()))]\n",
    "\n",
    "def bigSorting(unsorted):\n",
    "    \n",
    "    n = len(unsorted)\n",
    "    for i in range(n-1):\n",
    "        index = i\n",
    "        for j in range(i+1, n):\n",
    "            if unsorted[j]<unsorted[index]:\n",
    "                index = j\n",
    "        unsorted[i], unsorted[index] = unsorted[index], unsorted[i]\n",
    "    \n",
    "    for i in unsorted:\n",
    "        print(i)\n",
    "\n",
    "bigSorting(unsorted)"
   ]
  },
  {
   "cell_type": "code",
   "execution_count": 14,
   "metadata": {},
   "outputs": [],
   "source": [
    "arr= [21,4,22,7,6,1,33,17,90,80]\n",
    "\n",
    "def selection_sort(arr):\n",
    "    arr = [int(h) for h in arr]\n",
    "    n = len(arr)\n",
    "    for i in range(n-1):\n",
    "        index = i\n",
    "        for j in range(i+1, n):\n",
    "            if arr[j]<arr[index]:\n",
    "                index = j\n",
    "        arr[i], arr[index] = arr[index], arr[i]\n",
    "    return [str(s) for s in arr]\n"
   ]
  },
  {
   "cell_type": "code",
   "execution_count": 15,
   "metadata": {},
   "outputs": [
    {
     "data": {
      "text/plain": [
       "['4', '6', '7', '21', '22']"
      ]
     },
     "execution_count": 15,
     "metadata": {},
     "output_type": "execute_result"
    }
   ],
   "source": [
    "selection_sort([\"21\",\"4\",\"22\",\"7\",\"6\"])"
   ]
  },
  {
   "cell_type": "code",
   "execution_count": 84,
   "metadata": {},
   "outputs": [
    {
     "name": "stdout",
     "output_type": "stream",
     "text": [
      "2 3 4 6 8\n"
     ]
    }
   ],
   "source": [
    "arr = [2, 4, 6, 8, 3]\n",
    "\n",
    "def insertionSort1(arr):\n",
    "    n = len(arr)\n",
    "    for k in range(1, n):\n",
    "        i = k\n",
    "        temp = arr[k]\n",
    "        while i > 0 and arr[i-1] > temp:\n",
    "            arr[i] = arr[i-1]\n",
    "            i -= 1\n",
    "        arr[i] = temp\n",
    "    print(*arr)    \n",
    "\n",
    "\n",
    "insertionSort1(arr)"
   ]
  },
  {
   "cell_type": "code",
   "execution_count": 83,
   "metadata": {},
   "outputs": [
    {
     "name": "stdout",
     "output_type": "stream",
     "text": [
      "7 8 6 5 4 3 2 1\n",
      "6 7 8 5 4 3 2 1\n",
      "5 6 7 8 4 3 2 1\n",
      "4 5 6 7 8 3 2 1\n",
      "3 4 5 6 7 8 2 1\n",
      "2 3 4 5 6 7 8 1\n",
      "1 2 3 4 5 6 7 8\n"
     ]
    }
   ],
   "source": [
    "arr = [8, 7, 6, 5, 4, 3, 2, 1]\n",
    "\n",
    "def insertionSort1(arr):\n",
    "    n = len(arr)\n",
    "    if arr[1] < arr[0]:\n",
    "        arr[1], arr[0] = arr[0], arr[1]\n",
    "    for k in range(2, n):\n",
    "        i = k\n",
    "        temp = arr[k]\n",
    "        print(*arr)\n",
    "        while i > 0 and arr[i-1] > temp:\n",
    "            arr[i] = arr[i-1]\n",
    "            i -= 1\n",
    "        arr[i] = temp\n",
    "    print(*arr)    \n",
    "\n",
    "insertionSort1(arr)"
   ]
  },
  {
   "cell_type": "code",
   "execution_count": 205,
   "metadata": {},
   "outputs": [
    {
     "name": "stdout",
     "output_type": "stream",
     "text": [
      "[0, 1, 2, 3, 4, 5, 7, 8]\n"
     ]
    }
   ],
   "source": [
    "arr = [8, 7, 0, 5, 4, 3, 2, 1]\n",
    "\n",
    "m = max(arr)\n",
    "n = len(arr)\n",
    "a = [0] * (m+1)\n",
    "\n",
    "for i in arr:\n",
    "    a[i] += 1\n",
    "\n",
    "s = []\n",
    "for j in range(m+1):\n",
    "    s += a[j]*[j]\n",
    "\n",
    "print(s)"
   ]
  },
  {
   "cell_type": "code",
   "execution_count": 75,
   "metadata": {},
   "outputs": [],
   "source": [
    "def countSort(arr):\n",
    "    result = [[] for i in range(100)]\n",
    "\n",
    "    # first half of iteration\n",
    "    for i in range(n//2):\n",
    "        result[int(arr[i][0])].append('-')\n",
    "\n",
    "    # second half of iteration\n",
    "    for i in range(n//2, n):\n",
    "        result[int(arr[i][0])].append(arr[i][1])\n",
    "\n",
    "    # print the results\n",
    "    for string in result:\n",
    "        if string:\n",
    "            print(*string, end=' ')\n"
   ]
  },
  {
   "cell_type": "code",
   "execution_count": 77,
   "metadata": {},
   "outputs": [
    {
     "name": "stdout",
     "output_type": "stream",
     "text": [
      "- b "
     ]
    }
   ],
   "source": [
    "countSort([[0, \"a\"], [1, \"b\"], [0, \"c\"], [1, \"d\"]])"
   ]
  },
  {
   "cell_type": "code",
   "execution_count": 78,
   "metadata": {},
   "outputs": [
    {
     "name": "stdout",
     "output_type": "stream",
     "text": [
      "- c - d "
     ]
    }
   ],
   "source": [
    "n=int(input())\n",
    "s={}\n",
    "for _ in range (n):\n",
    "    a,b=input().split()\n",
    "    a=int(a)\n",
    "    if a not in s:\n",
    "        s[a]=[]\n",
    "    if _ < n/2 :\n",
    "        s[a].append(\"-\")\n",
    "    else :\n",
    "        s[a].append(b)\n",
    "for i in s:\n",
    "    for j in s[i]:\n",
    "        print (j, end = \" \")"
   ]
  },
  {
   "cell_type": "code",
   "execution_count": 90,
   "metadata": {},
   "outputs": [],
   "source": [
    "def absolute(n):\n",
    "    if n>0:\n",
    "        return n\n",
    "    else:\n",
    "        return -n"
   ]
  },
  {
   "cell_type": "code",
   "execution_count": 132,
   "metadata": {},
   "outputs": [
    {
     "name": "stdout",
     "output_type": "stream",
     "text": [
      "-20 30 "
     ]
    }
   ],
   "source": [
    "arr = [-20, -3916237, -357920, -3620601, 7374819, -7330761, 30, 6246457, -6461594, 266854]\n",
    "\n",
    "sub = []\n",
    "pair = []\n",
    "for i in range(len(arr)):\n",
    "    for j in range(i+1, len(arr)):\n",
    "        s = arr[i] - arr[j]\n",
    "        sub += [abs(s)]\n",
    "        pair += [(abs(s), (arr[i], arr[j]))]\n",
    "\n",
    "for i in pair:\n",
    "    if i[0] == sorted(sub)[0]:\n",
    "        print(*sorted(i[1]), end=\" \")"
   ]
  },
  {
   "cell_type": "code",
   "execution_count": 129,
   "metadata": {},
   "outputs": [],
   "source": [
    "n = int(input().strip())\n",
    "\n",
    "arr = list(map(int, input().rstrip().split()))"
   ]
  },
  {
   "cell_type": "code",
   "execution_count": 130,
   "metadata": {},
   "outputs": [
    {
     "data": {
      "text/plain": [
       "[2, 3, 4]"
      ]
     },
     "execution_count": 130,
     "metadata": {},
     "output_type": "execute_result"
    }
   ],
   "source": [
    "arr"
   ]
  },
  {
   "cell_type": "code",
   "execution_count": 140,
   "metadata": {},
   "outputs": [
    {
     "data": {
      "text/plain": [
       "[-7330761,\n",
       " -6461594,\n",
       " -3916237,\n",
       " -3620601,\n",
       " -357920,\n",
       " -20,\n",
       " 30,\n",
       " 266854,\n",
       " 6246457,\n",
       " 7374819]"
      ]
     },
     "execution_count": 140,
     "metadata": {},
     "output_type": "execute_result"
    }
   ],
   "source": [
    "arr = [-20, -3916237, -357920, -3620601, 7374819, -7330761, 30, 6246457, -6461594, 266854]\n",
    "sorted(arr)"
   ]
  },
  {
   "cell_type": "code",
   "execution_count": 150,
   "metadata": {},
   "outputs": [
    {
     "name": "stdout",
     "output_type": "stream",
     "text": [
      "-20 30 "
     ]
    }
   ],
   "source": [
    "arr = sorted(arr)\n",
    "sub = []\n",
    "pair = []\n",
    "for i in range(len(arr)-1):\n",
    "    j = i+1\n",
    "    s = arr[i] - arr[j]\n",
    "    sub +=[ abs(s)]\n",
    "    pair += [(abs(s),(arr[i], arr[j]))]\n",
    "\n",
    "sub = sorted(sub)\n",
    "pair = sorted(pair)\n",
    "for d in pair:\n",
    "    if d[0] == sub[0]:\n",
    "        print(*d[1], end=\" \")"
   ]
  },
  {
   "cell_type": "code",
   "execution_count": 1,
   "metadata": {},
   "outputs": [
    {
     "data": {
      "text/plain": [
       "[4]"
      ]
     },
     "execution_count": 1,
     "metadata": {},
     "output_type": "execute_result"
    }
   ],
   "source": [
    "n = int(input().strip())\n",
    "\n",
    "arr = list(map(int, input().rstrip().split()))\n",
    "\n",
    "arr"
   ]
  },
  {
   "cell_type": "code",
   "execution_count": 8,
   "metadata": {},
   "outputs": [
    {
     "name": "stdout",
     "output_type": "stream",
     "text": [
      "2\n"
     ]
    }
   ],
   "source": [
    "arr = [2, 3, 4, 2, 3, 6, 8, 4, 5]\n",
    "n = len(arr)\n",
    "d = 5\n",
    "count = 0\n",
    "i = 0\n",
    "j = d-1\n",
    "s = d\n",
    "\n",
    "\n",
    "while j < n-1:\n",
    "    arr1 = sorted(arr[i:j])\n",
    "\n",
    "    if d % 2 ==0:\n",
    "        median = ((arr1[d//2] + arr1[d//2-1]) // 2)\n",
    "    else:\n",
    "        median = arr1[d//2]\n",
    "    \n",
    "    if arr[s] >= 2 * median:\n",
    "        count += 1\n",
    "\n",
    "    i += 1\n",
    "    j += 1\n",
    "    s += 1\n",
    "\n",
    "print(count)"
   ]
  },
  {
   "cell_type": "code",
   "execution_count": 7,
   "metadata": {},
   "outputs": [
    {
     "data": {
      "text/plain": [
       "2"
      ]
     },
     "execution_count": 7,
     "metadata": {},
     "output_type": "execute_result"
    }
   ],
   "source": [
    "[1,2,3,4,5,6]\n",
    "6//2"
   ]
  },
  {
   "cell_type": "code",
   "execution_count": 1,
   "metadata": {},
   "outputs": [
    {
     "data": {
      "text/plain": [
       "0"
      ]
     },
     "execution_count": 1,
     "metadata": {},
     "output_type": "execute_result"
    }
   ],
   "source": [
    "def activityNotifications(expenditure, d):\n",
    "    # Write your code here\n",
    "    n = len(expenditure)\n",
    "    count = 0\n",
    "    i = 0\n",
    "    j = d-1\n",
    "    s = d\n",
    "\n",
    "\n",
    "    while j < n-1:\n",
    "        arr1 = sorted(expenditure[i:j])\n",
    "\n",
    "        if d % 2 ==0:\n",
    "            median = ((arr1[d//2] + arr1[d//2-1]) / 2)\n",
    "        else:\n",
    "            median = arr1[d//2]\n",
    "        \n",
    "        if expenditure[s] >= 2 * median:\n",
    "            count += 1\n",
    "\n",
    "        i += 1\n",
    "        j += 1\n",
    "        s += 1\n",
    "\n",
    "    return count\n",
    "\n",
    "\n",
    "activityNotifications([1, 2, 3, 4, 4], 4)"
   ]
  },
  {
   "cell_type": "code",
   "execution_count": 21,
   "metadata": {},
   "outputs": [
    {
     "data": {
      "text/plain": [
       "[2, 2, 3, 3, 4, 4, 5, 6, 8]"
      ]
     },
     "execution_count": 21,
     "metadata": {},
     "output_type": "execute_result"
    }
   ],
   "source": [
    "a = [2, 3, 4, 2, 3, 6, 8, 4, 5]\n",
    "s = sorted(a)\n",
    "s"
   ]
  },
  {
   "cell_type": "code",
   "execution_count": 24,
   "metadata": {},
   "outputs": [],
   "source": [
    "def get_double_median(counter, d):\n",
    "    count = 0\n",
    "    for i in range(201):\n",
    "        count += counter[i]\n",
    "        if count > d//2:\n",
    "            break\n",
    "    if d % 2 == 1:\n",
    "        return 2 * i\n",
    "    else:\n",
    "        for left in range(i, -1, -1):\n",
    "            count -= counter[left]\n",
    "            if count < d//2:\n",
    "                return left + i\n",
    "        return 2 * i\n",
    "\n",
    "def activityNotifications(expenditure, d):\n",
    "    count = 0\n",
    "    counter = [0]*201\n",
    "    for exp in expenditure[:d]:\n",
    "        counter[exp] += 1\n",
    "    for i in range(d, len(expenditure)):\n",
    "        new = expenditure[i]\n",
    "        old = expenditure[i-d]\n",
    "        double_median = get_double_median(counter, d)\n",
    "        if new >= double_median:\n",
    "            count += 1\n",
    "        if new == old:\n",
    "            continue\n",
    "        counter[new] += 1\n",
    "        counter[old] -= 1\n",
    "    return count"
   ]
  },
  {
   "cell_type": "code",
   "execution_count": null,
   "metadata": {},
   "outputs": [],
   "source": [
    "def activityNotifications(expenditure, d):\n",
    "    counts = [0]*11\n",
    "    notifications = 0\n",
    "\n",
    "    for i in range(d):\n",
    "        counts[expenditure[i]] += 1\n",
    "\n",
    "    for i in range(d, len(expenditure)):\n",
    "        median = get_median(counts, d)\n",
    "        if expenditure[i] >= 2*median:\n",
    "            notifications += 1\n",
    "        counts[expenditure[i-d]] -= 1\n",
    "        counts[expenditure[i]] += 1\n",
    "\n",
    "    return notifications\n",
    "\n",
    "def get_median(counts, d):\n",
    "    prefix_sum = [0]*11\n",
    "    prefix_sum[0] = counts[0]\n",
    "\n",
    "    for i in range(1, 201):\n",
    "        prefix_sum[i] = prefix_sum[i-1] + counts[i]\n",
    "\n",
    "    median1, median2 = None, None\n",
    "    if d%2 == 0:\n",
    "        first = d//2\n",
    "        second = first+1\n",
    "        i = 0\n",
    "        while prefix_sum[i] < first:\n",
    "            i += 1\n",
    "        median1 = i\n",
    "        while prefix_sum[i] < second:\n",
    "            i += 1\n",
    "        median2 = i\n",
    "    else:\n",
    "        median = d//2 + 1\n",
    "        i = 0\n",
    "        while prefix_sum[i] < median:\n",
    "            i += 1\n",
    "        median1 = median2 = i\n",
    "\n",
    "    return (median1 + median2) / 2\n"
   ]
  },
  {
   "cell_type": "code",
   "execution_count": 18,
   "metadata": {},
   "outputs": [],
   "source": [
    "expenditure = [2, 3, 4, 2, 3, 6, 8, 4, 5]\n",
    "\n",
    "counts = [0]*11\n",
    "notifications = 0\n",
    "\n",
    "for i in range(d):\n",
    "    counts[expenditure[i]] += 1"
   ]
  },
  {
   "cell_type": "code",
   "execution_count": 19,
   "metadata": {},
   "outputs": [
    {
     "data": {
      "text/plain": [
       "[0, 0, 2, 2, 1, 0, 0, 0, 0, 0, 0]"
      ]
     },
     "execution_count": 19,
     "metadata": {},
     "output_type": "execute_result"
    }
   ],
   "source": [
    "counts"
   ]
  },
  {
   "cell_type": "code",
   "execution_count": 27,
   "metadata": {},
   "outputs": [
    {
     "data": {
      "text/plain": [
       "4"
      ]
     },
     "execution_count": 27,
     "metadata": {},
     "output_type": "execute_result"
    }
   ],
   "source": [
    "arr = [2, 1, 3, 1, 2]\n",
    "\n",
    "c = 0\n",
    "for i in range(1, len(arr)):\n",
    "    temp = arr[i]\n",
    "    while i>0 and temp<arr[i-1]:\n",
    "        arr[i] = arr[i-1]\n",
    "        i -= 1\n",
    "        c += 1\n",
    "    arr[i] = temp\n",
    "\n",
    "c"
   ]
  },
  {
   "cell_type": "code",
   "execution_count": 39,
   "metadata": {},
   "outputs": [
    {
     "data": {
      "text/plain": [
       "2"
      ]
     },
     "execution_count": 39,
     "metadata": {},
     "output_type": "execute_result"
    }
   ],
   "source": [
    "arr = [2, 5, 3, 1]\n",
    "\n",
    "c=-1\n",
    "for i in range(len(arr)-1):\n",
    "    bubble_found = False\n",
    "    c += 1\n",
    "    for j in range(len(arr)-1, i, -1):\n",
    "        if arr[j] < arr[j-1]:\n",
    "            arr[j], arr[j-1] = arr[j-1], arr[j]\n",
    "            bubble_found = True\n",
    "        \n",
    "    if not bubble_found:     \n",
    "        break\n",
    "c"
   ]
  }
 ],
 "metadata": {
  "kernelspec": {
   "display_name": "venv7",
   "language": "python",
   "name": "python3"
  },
  "language_info": {
   "codemirror_mode": {
    "name": "ipython",
    "version": 3
   },
   "file_extension": ".py",
   "mimetype": "text/x-python",
   "name": "python",
   "nbconvert_exporter": "python",
   "pygments_lexer": "ipython3",
   "version": "3.9.6"
  }
 },
 "nbformat": 4,
 "nbformat_minor": 2
}
