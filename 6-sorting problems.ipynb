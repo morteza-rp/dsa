{
 "cells": [
  {
   "cell_type": "code",
   "execution_count": 12,
   "metadata": {},
   "outputs": [
    {
     "name": "stdout",
     "output_type": "stream",
     "text": [
      "3\n",
      "9\n",
      "10\n"
     ]
    }
   ],
   "source": [
    "unsorted = [int(input()) for i in range(int(input()))]\n",
    "\n",
    "def bigSorting(unsorted):\n",
    "    \n",
    "    n = len(unsorted)\n",
    "    for i in range(n-1):\n",
    "        index = i\n",
    "        for j in range(i+1, n):\n",
    "            if unsorted[j]<unsorted[index]:\n",
    "                index = j\n",
    "        unsorted[i], unsorted[index] = unsorted[index], unsorted[i]\n",
    "    \n",
    "    for i in unsorted:\n",
    "        print(i)\n",
    "\n",
    "bigSorting(unsorted)"
   ]
  },
  {
   "cell_type": "code",
   "execution_count": 14,
   "metadata": {},
   "outputs": [],
   "source": [
    "arr= [21,4,22,7,6,1,33,17,90,80]\n",
    "\n",
    "def selection_sort(arr):\n",
    "    arr = [int(h) for h in arr]\n",
    "    n = len(arr)\n",
    "    for i in range(n-1):\n",
    "        index = i\n",
    "        for j in range(i+1, n):\n",
    "            if arr[j]<arr[index]:\n",
    "                index = j\n",
    "        arr[i], arr[index] = arr[index], arr[i]\n",
    "    return [str(s) for s in arr]\n"
   ]
  },
  {
   "cell_type": "code",
   "execution_count": 15,
   "metadata": {},
   "outputs": [
    {
     "data": {
      "text/plain": [
       "['4', '6', '7', '21', '22']"
      ]
     },
     "execution_count": 15,
     "metadata": {},
     "output_type": "execute_result"
    }
   ],
   "source": [
    "selection_sort([\"21\",\"4\",\"22\",\"7\",\"6\"])"
   ]
  },
  {
   "cell_type": "code",
   "execution_count": 84,
   "metadata": {},
   "outputs": [
    {
     "name": "stdout",
     "output_type": "stream",
     "text": [
      "2 3 4 6 8\n"
     ]
    }
   ],
   "source": [
    "arr = [2, 4, 6, 8, 3]\n",
    "\n",
    "def insertionSort1(arr):\n",
    "    n = len(arr)\n",
    "    for k in range(1, n):\n",
    "        i = k\n",
    "        temp = arr[k]\n",
    "        while i > 0 and arr[i-1] > temp:\n",
    "            arr[i] = arr[i-1]\n",
    "            i -= 1\n",
    "        arr[i] = temp\n",
    "    print(*arr)    \n",
    "\n",
    "\n",
    "insertionSort1(arr)"
   ]
  },
  {
   "cell_type": "code",
   "execution_count": 83,
   "metadata": {},
   "outputs": [
    {
     "name": "stdout",
     "output_type": "stream",
     "text": [
      "7 8 6 5 4 3 2 1\n",
      "6 7 8 5 4 3 2 1\n",
      "5 6 7 8 4 3 2 1\n",
      "4 5 6 7 8 3 2 1\n",
      "3 4 5 6 7 8 2 1\n",
      "2 3 4 5 6 7 8 1\n",
      "1 2 3 4 5 6 7 8\n"
     ]
    }
   ],
   "source": [
    "arr = [8, 7, 6, 5, 4, 3, 2, 1]\n",
    "\n",
    "def insertionSort1(arr):\n",
    "    n = len(arr)\n",
    "    if arr[1] < arr[0]:\n",
    "        arr[1], arr[0] = arr[0], arr[1]\n",
    "    for k in range(2, n):\n",
    "        i = k\n",
    "        temp = arr[k]\n",
    "        print(*arr)\n",
    "        while i > 0 and arr[i-1] > temp:\n",
    "            arr[i] = arr[i-1]\n",
    "            i -= 1\n",
    "        arr[i] = temp\n",
    "    print(*arr)    \n",
    "\n",
    "insertionSort1(arr)"
   ]
  },
  {
   "cell_type": "code",
   "execution_count": 205,
   "metadata": {},
   "outputs": [
    {
     "name": "stdout",
     "output_type": "stream",
     "text": [
      "[0, 1, 2, 3, 4, 5, 7, 8]\n"
     ]
    }
   ],
   "source": [
    "arr = [8, 7, 0, 5, 4, 3, 2, 1]\n",
    "\n",
    "m = max(arr)\n",
    "n = len(arr)\n",
    "a = [0] * (m+1)\n",
    "\n",
    "for i in arr:\n",
    "    a[i] += 1\n",
    "\n",
    "s = []\n",
    "for j in range(m+1):\n",
    "    s += a[j]*[j]\n",
    "\n",
    "print(s)"
   ]
  }
 ],
 "metadata": {
  "kernelspec": {
   "display_name": "venv7",
   "language": "python",
   "name": "python3"
  },
  "language_info": {
   "codemirror_mode": {
    "name": "ipython",
    "version": 3
   },
   "file_extension": ".py",
   "mimetype": "text/x-python",
   "name": "python",
   "nbconvert_exporter": "python",
   "pygments_lexer": "ipython3",
   "version": "3.9.6"
  }
 },
 "nbformat": 4,
 "nbformat_minor": 2
}
