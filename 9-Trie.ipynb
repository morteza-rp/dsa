{
 "cells": [
  {
   "cell_type": "code",
   "execution_count": null,
   "metadata": {},
   "outputs": [],
   "source": [
    "class Node:\n",
    "    def __init__(self) -> None:\n",
    "        self.mark = False\n",
    "        self.edges = []     # a list of edges exist\n",
    "\n",
    "\n",
    "class Edge:\n",
    "    def __init__(self, start, end, label) -> None:\n",
    "        self.start = start\n",
    "        self.end = end\n",
    "        self.label = label\n",
    "        \n"
   ]
  }
 ],
 "metadata": {
  "kernelspec": {
   "display_name": "venv7",
   "language": "python",
   "name": "python3"
  },
  "language_info": {
   "name": "python",
   "version": "3.9.6"
  }
 },
 "nbformat": 4,
 "nbformat_minor": 2
}
