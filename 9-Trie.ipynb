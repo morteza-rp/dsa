{
 "cells": [
  {
   "cell_type": "code",
   "execution_count": 1,
   "metadata": {},
   "outputs": [],
   "source": [
    "class Node:\n",
    "    def __init__(self) -> None:\n",
    "        self.mark = False\n",
    "        self.edges = []     # a list of edges exist\n",
    "\n",
    "\n",
    "class Edge:\n",
    "    def __init__(self, start, end, label) -> None:\n",
    "        self.start = start\n",
    "        self.end = end\n",
    "        self.label = label"
   ]
  },
  {
   "cell_type": "code",
   "execution_count": null,
   "metadata": {},
   "outputs": [],
   "source": [
    "def trie_insert(node, string, idx=0):\n",
    "    \"\"\"\n",
    "    \"idx\" is the index of current character\n",
    "    \"\"\"\n",
    "    if idx == len(string):   # it means end of string\n",
    "        node.mark = True\n",
    "    "
   ]
  }
 ],
 "metadata": {
  "kernelspec": {
   "display_name": "venv7",
   "language": "python",
   "name": "python3"
  },
  "language_info": {
   "codemirror_mode": {
    "name": "ipython",
    "version": 3
   },
   "file_extension": ".py",
   "mimetype": "text/x-python",
   "name": "python",
   "nbconvert_exporter": "python",
   "pygments_lexer": "ipython3",
   "version": "3.9.6"
  }
 },
 "nbformat": 4,
 "nbformat_minor": 2
}
