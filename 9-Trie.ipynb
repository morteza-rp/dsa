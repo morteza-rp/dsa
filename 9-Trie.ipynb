{
 "cells": [
  {
   "cell_type": "code",
   "execution_count": 4,
   "metadata": {},
   "outputs": [],
   "source": [
    "class TrieNode:\n",
    "\n",
    "\t# Trie node class\n",
    "\tdef _init_(self):\n",
    "\t\tself.children = [None for _ in range(26)]\n",
    "\t\t# This will keep track of number of strings that are stored in the Trie from root node to any Trie node.\n",
    "\t\tself.wordCount = 0"
   ]
  },
  {
   "cell_type": "code",
   "execution_count": null,
   "metadata": {},
   "outputs": [],
   "source": [
    "def insert_key(root, key):\n",
    "\t# Initialize the currentNode pointer\n",
    "\t# with the root node\n",
    "\tcurrentNode = root\n",
    "\n",
    "\t# Iterate across the length of the string\n",
    "\tfor c in key:\n",
    "\t\t# Check if the node exist for the current\n",
    "\t\t# character in the Trie.\n",
    "\t\tif currentNode.childNode[ord(c) - ord('a')] == None:\n",
    "\t\t\t# If node for current character does not exist\n",
    "\t\t\t# then make a new node\n",
    "\t\t\tnewNode = TrieNode()\n",
    "\n",
    "\t\t\t# Keep the reference for the newly created\n",
    "\t\t\t# node.\n",
    "\t\t\tcurrentNode.childNode[ord(c) - ord('a')] = newNode\n",
    "\n",
    "\t\t# Now, move the current node pointer to the newly\n",
    "\t\t# created node.\n",
    "\t\tcurrentNode = currentNode.childNode[ord(c) - ord('a')]\n",
    "\n",
    "\t# Increment the wordEndCount for the last currentNode\n",
    "\t# pointer this implies that there is a string ending at\n",
    "\t# currentNode.\n",
    "\tcurrentNode.wordCount += 1\n"
   ]
  }
 ],
 "metadata": {
  "kernelspec": {
   "display_name": "venv7",
   "language": "python",
   "name": "python3"
  },
  "language_info": {
   "codemirror_mode": {
    "name": "ipython",
    "version": 3
   },
   "file_extension": ".py",
   "mimetype": "text/x-python",
   "name": "python",
   "nbconvert_exporter": "python",
   "pygments_lexer": "ipython3",
   "version": "3.9.6"
  }
 },
 "nbformat": 4,
 "nbformat_minor": 2
}
