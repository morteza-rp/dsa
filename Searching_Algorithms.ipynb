{
 "cells": [
  {
   "cell_type": "code",
   "execution_count": 26,
   "metadata": {},
   "outputs": [
    {
     "data": {
      "text/plain": [
       "4"
      ]
     },
     "execution_count": 26,
     "metadata": {},
     "output_type": "execute_result"
    }
   ],
   "source": [
    "def binarySearch(arr, elem):\n",
    "    start = 0\n",
    "    end = len(arr) - 1\n",
    "    middle = (start + end) // 2\n",
    "\n",
    "    while arr[middle] != elem:\n",
    "        if elem < arr[middle]:\n",
    "            end = middle - 1\n",
    "        else:\n",
    "            start = middle + 1\n",
    "        middle = (start + end) // 2\n",
    "\n",
    "    return middle if arr[middle] == elem else -1\n",
    "\n",
    "binarySearch([1,2,3,4,5,6,7], 5)"
   ]
  },
  {
   "cell_type": "code",
   "execution_count": 27,
   "metadata": {},
   "outputs": [
    {
     "ename": "NameError",
     "evalue": "name 'arr' is not defined",
     "output_type": "error",
     "traceback": [
      "\u001b[1;31m---------------------------------------------------------------------------\u001b[0m",
      "\u001b[1;31mNameError\u001b[0m                                 Traceback (most recent call last)",
      "\u001b[1;32me:\\github\\dsa\\Searching_Algorithms.ipynb Cell 2\u001b[0m line \u001b[0;36m2\n\u001b[0;32m     <a href='vscode-notebook-cell:/e%3A/github/dsa/Searching_Algorithms.ipynb#W3sZmlsZQ%3D%3D?line=22'>23</a>\u001b[0m     \u001b[39melse\u001b[39;00m:\n\u001b[0;32m     <a href='vscode-notebook-cell:/e%3A/github/dsa/Searching_Algorithms.ipynb#W3sZmlsZQ%3D%3D?line=23'>24</a>\u001b[0m         \u001b[39m# Element is not present in the array\u001b[39;00m\n\u001b[0;32m     <a href='vscode-notebook-cell:/e%3A/github/dsa/Searching_Algorithms.ipynb#W3sZmlsZQ%3D%3D?line=24'>25</a>\u001b[0m         \u001b[39mreturn\u001b[39;00m \u001b[39m-\u001b[39m\u001b[39m1\u001b[39m\n\u001b[1;32m---> <a href='vscode-notebook-cell:/e%3A/github/dsa/Searching_Algorithms.ipynb#W3sZmlsZQ%3D%3D?line=27'>28</a>\u001b[0m binary_search([ \u001b[39m2\u001b[39m, \u001b[39m3\u001b[39m, \u001b[39m4\u001b[39m, \u001b[39m10\u001b[39m, \u001b[39m40\u001b[39m ], \u001b[39m0\u001b[39m, \u001b[39mlen\u001b[39m(arr)\u001b[39m-\u001b[39m\u001b[39m1\u001b[39m, \u001b[39m10\u001b[39m)\n",
      "\u001b[1;31mNameError\u001b[0m: name 'arr' is not defined"
     ]
    }
   ],
   "source": [
    "# Python 3 program for recursive binary search.\n",
    "# Modifications needed for the older Python 2 are found in comments.\n",
    "\n",
    "# Returns index of x in arr if present, else -1\n",
    "def binary_search(arr, low, high, x):\n",
    "\n",
    "    # Check base case\n",
    "    if high >= low:\n",
    "\n",
    "        mid = (high + low) // 2\n",
    "\n",
    "        # If element is present at the middle itself\n",
    "        if arr[mid] == x:\n",
    "            return mid\n",
    "\n",
    "\n",
    "        elif arr[mid] > x:\n",
    "            return binary_search(arr, low, mid - 1, x)\n",
    "\n",
    "        else:\n",
    "            return binary_search(arr, mid + 1, high, x)\n",
    "\n",
    "    else:\n",
    "        # Element is not present in the array\n",
    "        return -1\n",
    "\n",
    "\n",
    "binary_search([ 2, 3, 4, 10, 40 ], 0, len(arr)-1, 10)\n",
    "\n"
   ]
  }
 ],
 "metadata": {
  "kernelspec": {
   "display_name": "python3116.venv",
   "language": "python",
   "name": "python3"
  },
  "language_info": {
   "codemirror_mode": {
    "name": "ipython",
    "version": 3
   },
   "file_extension": ".py",
   "mimetype": "text/x-python",
   "name": "python",
   "nbconvert_exporter": "python",
   "pygments_lexer": "ipython3",
   "version": "3.11.6"
  }
 },
 "nbformat": 4,
 "nbformat_minor": 2
}
