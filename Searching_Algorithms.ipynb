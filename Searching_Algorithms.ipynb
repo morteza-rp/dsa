{
 "cells": [
  {
   "cell_type": "markdown",
   "metadata": {},
   "source": [
    "**binary search**"
   ]
  },
  {
   "cell_type": "code",
   "execution_count": 26,
   "metadata": {},
   "outputs": [
    {
     "data": {
      "text/plain": [
       "4"
      ]
     },
     "execution_count": 26,
     "metadata": {},
     "output_type": "execute_result"
    }
   ],
   "source": [
    "def binarySearch(arr, elem):\n",
    "    start = 0\n",
    "    end = len(arr) - 1\n",
    "    middle = (start + end) // 2\n",
    "\n",
    "    while arr[middle] != elem:\n",
    "        if elem < arr[middle]:\n",
    "            end = middle - 1\n",
    "        else:\n",
    "            start = middle + 1\n",
    "        middle = (start + end) // 2\n",
    "\n",
    "    return middle if arr[middle] == elem else -1\n",
    "\n",
    "binarySearch([1,2,3,4,5,6,7], 5)"
   ]
  },
  {
   "cell_type": "code",
   "execution_count": null,
   "metadata": {},
   "outputs": [],
   "source": [
    "# recursive\n",
    "def binary_search(arr, low, high, x):\n",
    "    pass\n",
    "\n",
    "\n",
    "\n"
   ]
  },
  {
   "cell_type": "markdown",
   "metadata": {},
   "source": [
    "**Pattern Searching**"
   ]
  },
  {
   "cell_type": "code",
   "execution_count": 30,
   "metadata": {},
   "outputs": [
    {
     "name": "stdout",
     "output_type": "stream",
     "text": [
      "hi found at index 0\n",
      "hi found at index 7\n"
     ]
    }
   ],
   "source": [
    "def pattern_searching(text, pattern):\n",
    "  \n",
    "  for index in range(len(text)):\n",
    "\n",
    "    match_count = 0\n",
    "    for char in range(len(pattern)):\n",
    "      \n",
    "      if pattern[char] == text[index + char]:\n",
    "        match_count += 1\n",
    "      else:\n",
    "        break\n",
    "\n",
    "    if match_count == len(pattern):\n",
    "      print(pattern, \"found at index\", index)\n",
    "\n",
    "pattern_searching(text=\"hi tom hi\", pattern=\"hi\")"
   ]
  },
  {
   "cell_type": "code",
   "execution_count": 26,
   "metadata": {},
   "outputs": [
    {
     "data": {
      "text/plain": [
       "2"
      ]
     },
     "execution_count": 26,
     "metadata": {},
     "output_type": "execute_result"
    }
   ],
   "source": [
    "# with sliding windows\n",
    "def pattern_searching(text, pat):\n",
    "    start = 0\n",
    "    end = len(pat)\n",
    "\n",
    "    count = 0\n",
    "    for i in range(len(text)):\n",
    "        if end > len(text):\n",
    "            break\n",
    "\n",
    "        if text[start:end] == pat:\n",
    "            count+=1\n",
    "            \n",
    "        start+=1\n",
    "        end+=1\n",
    "\n",
    "    return count\n",
    "\n",
    "pattern_searching(text=\"hi tom hi\", pat=\"hi\")\n"
   ]
  }
 ],
 "metadata": {
  "kernelspec": {
   "display_name": "python3116.venv",
   "language": "python",
   "name": "python3"
  },
  "language_info": {
   "codemirror_mode": {
    "name": "ipython",
    "version": 3
   },
   "file_extension": ".py",
   "mimetype": "text/x-python",
   "name": "python",
   "nbconvert_exporter": "python",
   "pygments_lexer": "ipython3",
   "version": "3.11.6"
  }
 },
 "nbformat": 4,
 "nbformat_minor": 2
}
