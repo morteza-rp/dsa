{
 "cells": [
  {
   "cell_type": "code",
   "execution_count": 71,
   "metadata": {},
   "outputs": [
    {
     "name": "stdout",
     "output_type": "stream",
     "text": [
      "with for loop: 0.6806786000\n",
      "without for loop: 0.0000728000\n"
     ]
    }
   ],
   "source": [
    "from timeit import default_timer as timer\n",
    "\n",
    "def addupto_for(n):\n",
    "    s = 0\n",
    "    for i in range(1, n+1):\n",
    "        s += n\n",
    "\n",
    "def addupto_math(n):\n",
    "    s = (n*(n+1))/2\n",
    "\n",
    "\n",
    "start = timer()\n",
    "addupto_for(10000000)\n",
    "end = timer()\n",
    "print(f\"with for loop: {end-start:.10f}\")\n",
    "\n",
    "start = timer()\n",
    "addupto_math(10000000)\n",
    "end = timer()\n",
    "print(f\"without for loop: {end-start:.10f}\")"
   ]
  },
  {
   "cell_type": "code",
   "execution_count": null,
   "metadata": {},
   "outputs": [],
   "source": []
  }
 ],
 "metadata": {
  "kernelspec": {
   "display_name": "python3116.venv",
   "language": "python",
   "name": "python3"
  },
  "language_info": {
   "codemirror_mode": {
    "name": "ipython",
    "version": 3
   },
   "file_extension": ".py",
   "mimetype": "text/x-python",
   "name": "python",
   "nbconvert_exporter": "python",
   "pygments_lexer": "ipython3",
   "version": "3.11.6"
  }
 },
 "nbformat": 4,
 "nbformat_minor": 2
}
