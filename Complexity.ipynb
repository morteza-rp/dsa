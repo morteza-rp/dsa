{
 "cells": [
  {
   "cell_type": "code",
   "execution_count": 71,
   "metadata": {},
   "outputs": [
    {
     "name": "stdout",
     "output_type": "stream",
     "text": [
      "with for loop: 0.6806786000\n",
      "without for loop: 0.0000728000\n"
     ]
    }
   ],
   "source": [
    "from timeit import default_timer as timer\n",
    "\n",
    "def addupto_for(n):\n",
    "    s = 0\n",
    "    for i in range(1, n+1):\n",
    "        s += n\n",
    "\n",
    "def addupto_math(n):\n",
    "    s = (n*(n+1))/2\n",
    "\n",
    "\n",
    "start = timer()\n",
    "addupto_for(10000000)\n",
    "end = timer()\n",
    "print(f\"with for loop: {end-start:.10f}\")\n",
    "\n",
    "start = timer()\n",
    "addupto_math(10000000)\n",
    "end = timer()\n",
    "print(f\"without for loop: {end-start:.10f}\")"
   ]
  },
  {
   "cell_type": "code",
   "execution_count": 27,
   "metadata": {},
   "outputs": [],
   "source": [
    "# time complexity\n",
    "\n",
    "def one_for(n):         # O(n)\n",
    "    for i in range(n):\n",
    "        return i\n",
    "\n",
    "def two_for(n):         # O(2n)\n",
    "    for i in range(n):\n",
    "        return i\n",
    "    for j in range(n):\n",
    "        return j\n",
    "\n",
    "def two_nested_for(n):  # O(n^2)\n",
    "    for i in range(n):\n",
    "        for j in range(n):\n",
    "            return i*j\n",
    "\n",
    "# space complexity\n",
    "\n",
    "def sum(n):              # O(1)\n",
    "    s=0\n",
    "    for i in range(n):\n",
    "        s+=i\n",
    "\n",
    "def seq(n):              # O(n)\n",
    "    a=[]\n",
    "    for i in range(n):\n",
    "        a.append(i)\n",
    "\n"
   ]
  },
  {
   "cell_type": "code",
   "execution_count": 39,
   "metadata": {},
   "outputs": [
    {
     "data": {
      "text/plain": [
       "6"
      ]
     },
     "execution_count": 39,
     "metadata": {},
     "output_type": "execute_result"
    }
   ],
   "source": [
    "# The ctypes module provides a technique for creating arrays that can store references to Python objects.\n",
    "import ctypes\n",
    "Arraytype = ctypes.py_object*5\n",
    "slots = Arraytype()\n",
    "\n",
    "for id,i in enumerate(range(5)):\n",
    "    slots[id] = i*2\n",
    "\n",
    "slots[3]"
   ]
  },
  {
   "cell_type": "code",
   "execution_count": 42,
   "metadata": {},
   "outputs": [
    {
     "data": {
      "text/plain": [
       "[1, 3, 6, 10, 15]"
      ]
     },
     "execution_count": 42,
     "metadata": {},
     "output_type": "execute_result"
    }
   ],
   "source": [
    "\n",
    "def getCumulativeSum(arr: list[int]) -> list[int]:\n",
    "    n = len(arr)\n",
    "    cumulativeSum = [arr[0]] * n\n",
    "    for i in range(1, n):\n",
    "        cumulativeSum[i] = cumulativeSum[i - 1] + arr[i]\n",
    "    return cumulativeSum\n",
    "\n",
    "getCumulativeSum([1,2,3,4,5])"
   ]
  },
  {
   "cell_type": "code",
   "execution_count": null,
   "metadata": {},
   "outputs": [],
   "source": [
    "# naive solution == O(n^2)\n",
    "def same(arr1, arr2):\n",
    "    if len(arr1) != len(arr2):\n",
    "        return False\n",
    "    \n",
    "    for i in range(len(arr1)):\n",
    "        correctIndex = arr2.index(arr1[i] ** 2)\n",
    "        if correctIndex == -1:\n",
    "            return False\n",
    "        arr2.pop(correctIndex)\n",
    "    return True\n",
    "\n",
    "same([1,2,8], [9,1,4])"
   ]
  },
  {
   "cell_type": "code",
   "execution_count": null,
   "metadata": {},
   "outputs": [],
   "source": [
    "# refactored solotion O(n)\n",
    "\n",
    "def same(arr1, arr2):\n",
    "    if len(arr1) != len(arr2):\n",
    "        return False\n",
    "    \n",
    "    frequencyCounter1 = {}\n",
    "    frequencyCounter2 = {}\n",
    "\n",
    "    for val in arr1:\n",
    "        frequencyCounter1[val] = frequencyCounter1.get(val, 0) + 1\n",
    "\n",
    "    for val in arr2:\n",
    "        frequencyCounter2[val] = frequencyCounter2.get(val, 0) + 1\n",
    "\n",
    "    for key in frequencyCounter1:\n",
    "        if key ** 2 not in frequencyCounter2:\n",
    "            return False\n",
    "        if frequencyCounter2[key ** 2] != frequencyCounter1[key]:\n",
    "            return False\n",
    "    return True"
   ]
  },
  {
   "cell_type": "code",
   "execution_count": 67,
   "metadata": {},
   "outputs": [
    {
     "data": {
      "text/plain": [
       "[-2, 2]"
      ]
     },
     "execution_count": 67,
     "metadata": {},
     "output_type": "execute_result"
    }
   ],
   "source": [
    "# two pointer\n",
    "\n",
    "def sumZero(arr):\n",
    "    left = 0\n",
    "    right = len(arr) - 1\n",
    "    while left < right:\n",
    "        sum = arr[left] + arr[right]\n",
    "        if sum == 0:\n",
    "            return [arr[left], arr[right]]\n",
    "        elif sum > 0:\n",
    "            right -= 1\n",
    "        else:\n",
    "            left += 1\n",
    "\n",
    "sumZero([-3,-2,0,1,2])\n"
   ]
  },
  {
   "cell_type": "code",
   "execution_count": 73,
   "metadata": {},
   "outputs": [
    {
     "data": {
      "text/plain": [
       "4"
      ]
     },
     "execution_count": 73,
     "metadata": {},
     "output_type": "execute_result"
    }
   ],
   "source": [
    "def unique(arr):\n",
    "    l=[]\n",
    "    for i in arr:\n",
    "        if i not in l:\n",
    "            l.append(i)\n",
    "    return len(l)\n",
    "\n",
    "unique([0,1,1,1,1,1,2,6])"
   ]
  },
  {
   "cell_type": "code",
   "execution_count": 74,
   "metadata": {},
   "outputs": [
    {
     "data": {
      "text/plain": [
       "4"
      ]
     },
     "execution_count": 74,
     "metadata": {},
     "output_type": "execute_result"
    }
   ],
   "source": [
    "# with two pointer i, j\n",
    "\n",
    "def countUniqueValues(arr):\n",
    "    if len(arr) == 0:\n",
    "        return 0\n",
    "    \n",
    "    i = 0\n",
    "    for j in range(1, len(arr)):\n",
    "        if arr[i] != arr[j]:\n",
    "            i += 1\n",
    "            arr[i] = arr[j]\n",
    "    return i + 1\n",
    "\n",
    "countUniqueValues([0,1,1,1,1,1,2,6])"
   ]
  },
  {
   "cell_type": "code",
   "execution_count": 76,
   "metadata": {},
   "outputs": [
    {
     "data": {
      "text/plain": [
       "[7, 2, 3, 4, 5, 6, 1]"
      ]
     },
     "execution_count": 76,
     "metadata": {},
     "output_type": "execute_result"
    }
   ],
   "source": [
    "l = [1,2,3,4,5,6,7]\n",
    "l[0], l[6] = l[6], l[0]\n",
    "l"
   ]
  }
 ],
 "metadata": {
  "kernelspec": {
   "display_name": "python3116.venv",
   "language": "python",
   "name": "python3"
  },
  "language_info": {
   "codemirror_mode": {
    "name": "ipython",
    "version": 3
   },
   "file_extension": ".py",
   "mimetype": "text/x-python",
   "name": "python",
   "nbconvert_exporter": "python",
   "pygments_lexer": "ipython3",
   "version": "3.11.6"
  }
 },
 "nbformat": 4,
 "nbformat_minor": 2
}
