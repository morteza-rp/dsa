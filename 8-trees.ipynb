{
 "cells": [
  {
   "cell_type": "code",
   "execution_count": 20,
   "metadata": {},
   "outputs": [],
   "source": [
    "class Node:\n",
    "    def __init__(self, value, parent):\n",
    "        self.value = value\n",
    "        self.parent = parent\n",
    "        self.left = None\n",
    "        self.right = None"
   ]
  },
  {
   "cell_type": "code",
   "execution_count": 21,
   "metadata": {},
   "outputs": [],
   "source": [
    "#     1\n",
    "#   /  \\\n",
    "#  2    3\n",
    "#      /\n",
    "#     4"
   ]
  },
  {
   "cell_type": "code",
   "execution_count": 4,
   "metadata": {},
   "outputs": [],
   "source": [
    "root = Node(1, None)\n",
    "node2 = Node(2, root)\n",
    "root.left = node2\n",
    "node3 = Node(3, root)\n",
    "root.right = node3\n",
    "node4 = Node(4, node3)\n",
    "node3.left = node4"
   ]
  },
  {
   "cell_type": "code",
   "execution_count": 23,
   "metadata": {},
   "outputs": [
    {
     "name": "stdout",
     "output_type": "stream",
     "text": [
      "2\n",
      "1\n",
      "4\n",
      "3\n"
     ]
    }
   ],
   "source": [
    "def inorder(node):\n",
    "    if node == None:\n",
    "        return\n",
    "    \n",
    "    inorder(node.left)\n",
    "    print(node.value)\n",
    "    inorder(node.right)\n",
    "\n",
    "inorder(root)"
   ]
  },
  {
   "cell_type": "code",
   "execution_count": 24,
   "metadata": {},
   "outputs": [
    {
     "name": "stdout",
     "output_type": "stream",
     "text": [
      "1\n",
      "2\n",
      "3\n",
      "4\n"
     ]
    }
   ],
   "source": [
    "def preorder(node):\n",
    "    if node == None:\n",
    "        return\n",
    "    \n",
    "    print(node.value)\n",
    "    preorder(node.left)\n",
    "    preorder(node.right)\n",
    "\n",
    "preorder(root)"
   ]
  },
  {
   "cell_type": "code",
   "execution_count": 25,
   "metadata": {},
   "outputs": [
    {
     "name": "stdout",
     "output_type": "stream",
     "text": [
      "2\n",
      "4\n",
      "3\n",
      "1\n"
     ]
    }
   ],
   "source": [
    "def postorder(node):\n",
    "    if node == None:\n",
    "        return\n",
    "    \n",
    "    postorder(node.left)\n",
    "    postorder(node.right)\n",
    "    print(node.value)\n",
    "\n",
    "postorder(root)"
   ]
  },
  {
   "cell_type": "code",
   "execution_count": 26,
   "metadata": {},
   "outputs": [
    {
     "data": {
      "text/plain": [
       "False"
      ]
     },
     "execution_count": 26,
     "metadata": {},
     "output_type": "execute_result"
    }
   ],
   "source": [
    "def search(node, value):\n",
    "    if node == None:\n",
    "        return False\n",
    "    if node.value == value:\n",
    "        return True\n",
    "    if value < node.value:\n",
    "        return search(node.left, value)\n",
    "    return search(node.right, value)\n",
    "\n",
    "search(root, 2)"
   ]
  },
  {
   "cell_type": "code",
   "execution_count": 47,
   "metadata": {},
   "outputs": [],
   "source": [
    "def insert(node, value):\n",
    "    if value <= node.value:\n",
    "        if node.left is None:\n",
    "            child = Node(value, node)\n",
    "            node.left = child\n",
    "            return\n",
    "        insert(node.left, value)\n",
    "    else:\n",
    "        if node.right is None:\n",
    "            child = Node(value, node)\n",
    "            node.right = child\n",
    "            return\n",
    "        insert(node.right, value)"
   ]
  },
  {
   "cell_type": "code",
   "execution_count": null,
   "metadata": {},
   "outputs": [],
   "source": [
    "root = Node(4, None)\n",
    "insert(root, 5)\n",
    "insert(root, 3)\n",
    "insert(root, 8)\n",
    "insert(root, 1)\n",
    "insert(root, 6)\n",
    "insert(root, 4.5)"
   ]
  },
  {
   "cell_type": "code",
   "execution_count": 29,
   "metadata": {},
   "outputs": [
    {
     "name": "stdout",
     "output_type": "stream",
     "text": [
      "4\n",
      "3\n",
      "1\n",
      "5\n",
      "4.5\n",
      "8\n",
      "6\n"
     ]
    }
   ],
   "source": [
    "preorder(root)"
   ]
  },
  {
   "cell_type": "code",
   "execution_count": 30,
   "metadata": {},
   "outputs": [
    {
     "name": "stdout",
     "output_type": "stream",
     "text": [
      "1\n",
      "3\n",
      "4.5\n",
      "6\n",
      "8\n",
      "5\n",
      "4\n"
     ]
    }
   ],
   "source": [
    "postorder(root)"
   ]
  },
  {
   "cell_type": "code",
   "execution_count": 31,
   "metadata": {},
   "outputs": [
    {
     "name": "stdout",
     "output_type": "stream",
     "text": [
      "True\n"
     ]
    }
   ],
   "source": [
    "print(search(root, 4.5))"
   ]
  },
  {
   "cell_type": "code",
   "execution_count": 32,
   "metadata": {},
   "outputs": [
    {
     "name": "stdout",
     "output_type": "stream",
     "text": [
      "False\n",
      "True\n",
      "False\n",
      "True\n",
      "True\n",
      "True\n",
      "True\n",
      "False\n",
      "True\n",
      "False\n"
     ]
    }
   ],
   "source": [
    "for i in range(10):\n",
    "    print(search(root, i))"
   ]
  },
  {
   "cell_type": "code",
   "execution_count": 13,
   "metadata": {},
   "outputs": [],
   "source": [
    "def replace(node, child):\n",
    "    if node.parent == None:\n",
    "        root = child\n",
    "    elif node.parent.left == node:\n",
    "        node.parent.left = child\n",
    "    else:\n",
    "        node.parent.right = child\n",
    "    child.parent = node.parent\n",
    "\n",
    "\n",
    "\n",
    "def delete(node):\n",
    "    if node.right == None:\n",
    "        replace(node, node.left)\n",
    "    elif node.left == None:\n",
    "        replace(node, node.right)\n",
    "    else:\n",
    "        temp = node.left\n",
    "        while temp.right != None:\n",
    "            temp = temp.right\n",
    "        node.value = temp.value\n",
    "        delete(temp)"
   ]
  },
  {
   "cell_type": "markdown",
   "metadata": {},
   "source": [
    "### node, search, min, max, insert, delete, lca"
   ]
  },
  {
   "cell_type": "code",
   "execution_count": 1,
   "metadata": {},
   "outputs": [],
   "source": [
    "class Node:\n",
    "    def __init__(self, label, parent):\n",
    "        self.label = label\n",
    "        self.parent = parent\n",
    "        self.leftChild = None\n",
    "        self.rightChild = None\n",
    "    \n",
    "    def __str__(self):   # Returns the path from root to node\n",
    "        if self.parent:\n",
    "            return  str(self.parent) + \" \" + str(self.label)\n",
    "        else:\n",
    "            return str(self.label)"
   ]
  },
  {
   "cell_type": "code",
   "execution_count": 2,
   "metadata": {},
   "outputs": [],
   "source": [
    "def search(node, label):\n",
    "    if node.label == label or node is None:\n",
    "        return node\n",
    "    elif node.label > label:\n",
    "        return search(node.leftChild, label)\n",
    "    else:\n",
    "        return search(node.rightChild, label)"
   ]
  },
  {
   "cell_type": "code",
   "execution_count": 3,
   "metadata": {},
   "outputs": [],
   "source": [
    "def findMin(node):\n",
    "    if node.leftChild is None:\n",
    "        return node\n",
    "    else:\n",
    "        return findMin(node.leftChild)\n",
    "    \n",
    "def findMax(node):\n",
    "    if node.rightChild is None:\n",
    "        return node\n",
    "    else:\n",
    "        return findMax(node.rightChild)"
   ]
  },
  {
   "cell_type": "code",
   "execution_count": 4,
   "metadata": {},
   "outputs": [],
   "source": [
    "def insert(node, value):\n",
    "    if value < node.label:\n",
    "        if node.leftChild != None:\n",
    "            insert(node.leftChild, value)\n",
    "        else:\n",
    "            node.leftChild = Node(value, node)\n",
    "    else:\n",
    "        if node.rightChild != None:\n",
    "            insert(node.rightChild, value)\n",
    "        else:\n",
    "            node.rightChild = Node(value, node)"
   ]
  },
  {
   "cell_type": "code",
   "execution_count": 10,
   "metadata": {},
   "outputs": [],
   "source": [
    "def inorderPrint(node):\n",
    "    if node is None:\n",
    "        return\n",
    "    inorderPrint(node.leftChild)\n",
    "    print(node.label)\n",
    "    inorderPrint(node.rightChild)"
   ]
  },
  {
   "cell_type": "code",
   "execution_count": 9,
   "metadata": {},
   "outputs": [],
   "source": [
    "def preorderPrint(node):\n",
    "    if node is None:\n",
    "        return\n",
    "    print(node.label)\n",
    "    preorderPrint(node.leftChild)\n",
    "    preorderPrint(node.rightChild)"
   ]
  },
  {
   "cell_type": "code",
   "execution_count": 8,
   "metadata": {},
   "outputs": [],
   "source": [
    "def postorderPrint(node):\n",
    "    if node is None:\n",
    "        return\n",
    "    postorderPrint(node.leftChild)\n",
    "    postorderPrint(node.rightChild)\n",
    "    print(node.label)"
   ]
  },
  {
   "cell_type": "code",
   "execution_count": 31,
   "metadata": {},
   "outputs": [
    {
     "name": "stdout",
     "output_type": "stream",
     "text": [
      "InOrder print of the tree:\n",
      "1\n",
      "2\n",
      "3\n",
      "4\n",
      "5\n",
      "6\n",
      "7\n",
      "8\n",
      "9\n",
      "10\n",
      "Searching value 8 in tree: 5 9 8\n",
      "Path to the min node in tree: 5 3 2 1\n",
      "Path to the max node in tree: 5 9 10\n"
     ]
    }
   ],
   "source": [
    "root = Node(5, None)\n",
    "insert(root, 9)\n",
    "insert(root, 10)\n",
    "insert(root, 3)\n",
    "insert(root, 8)\n",
    "insert(root, 7)\n",
    "insert(root, 2)\n",
    "insert(root, 1)\n",
    "insert(root, 4)\n",
    "insert(root, 6)\n",
    "print(\"InOrder print of the tree:\")\n",
    "inorderPrint(root)\n",
    "print (\"Searching value 8 in tree:\", str(search(root, 8)))\n",
    "print (\"Path to the min node in tree:\", findMin(root))\n",
    "print (\"Path to the max node in tree:\", findMax(root))"
   ]
  },
  {
   "cell_type": "code",
   "execution_count": 23,
   "metadata": {},
   "outputs": [],
   "source": [
    "def replaceNodeInParent(oldNode, newNode):\n",
    "    if oldNode.parent == None:\n",
    "        root = newNode\n",
    "    if oldNode.parent:  # oldnode is not root\n",
    "        if oldNode == oldNode.parent.leftChild:\n",
    "            oldNode.parent.leftChild = newNode\n",
    "        else:\n",
    "            oldNode.parent.rightChild = newNode\n",
    "\n",
    "    if newNode:\n",
    "        newNode.parent = oldNode.parent"
   ]
  },
  {
   "cell_type": "code",
   "execution_count": 24,
   "metadata": {},
   "outputs": [],
   "source": [
    "def delete(node, value):\n",
    "    if node is None:\n",
    "        return\n",
    "    \n",
    "    if node.label > value:\n",
    "        delete(node.leftChild, value)\n",
    "    elif node.label < value:\n",
    "        delete(node.rightChild, value)\n",
    "    else:   # node to be deleted is found\n",
    "        if node.leftChild and node.rightChild:  #has 2 children\n",
    "            newNode = findMax(node.leftChild)\n",
    "            node.label = newNode.label\n",
    "            delete(newNode, newNode.label)  #delete the new node\n",
    "        elif node.leftChild:\n",
    "            replaceNodeInParent(node, node.leftChild)\n",
    "        else:\n",
    "            replaceNodeInParent(node, node.rightChild)\n",
    "            # This works when node.rightChild is also None"
   ]
  },
  {
   "cell_type": "code",
   "execution_count": 28,
   "metadata": {},
   "outputs": [
    {
     "name": "stdout",
     "output_type": "stream",
     "text": [
      "1\n",
      "3\n"
     ]
    }
   ],
   "source": [
    "root = Node(2, None)\n",
    "insert(root, 1)\n",
    "insert(root, 3)\n",
    "delete(root, 2)\n",
    "inorderPrint(root)"
   ]
  },
  {
   "cell_type": "code",
   "execution_count": 32,
   "metadata": {},
   "outputs": [],
   "source": [
    "def lca(root, x, y):\n",
    "    if root.label > x and root.label > y:\n",
    "        lca(root.leftChild, x, y)\n",
    "    elif root.label < x and root.label < y:\n",
    "        lca(root.rightChild, x, y)\n",
    "    else:\n",
    "        print(root.label)"
   ]
  },
  {
   "cell_type": "code",
   "execution_count": 33,
   "metadata": {},
   "outputs": [
    {
     "name": "stdout",
     "output_type": "stream",
     "text": [
      "30\n"
     ]
    }
   ],
   "source": [
    "root = None\n",
    "root = Node(10, None)\n",
    "insert(root, -10)\n",
    "insert(root, 30)\n",
    "insert(root, 60)\n",
    "insert(root, 25)\n",
    "insert(root, 72)\n",
    "insert(root, 29)\n",
    "insert(root, 8)\n",
    "insert(root, 6)\n",
    "insert(root, 9)\n",
    "lca(root, 29, 72)"
   ]
  }
 ],
 "metadata": {
  "kernelspec": {
   "display_name": "venv7",
   "language": "python",
   "name": "python3"
  },
  "language_info": {
   "codemirror_mode": {
    "name": "ipython",
    "version": 3
   },
   "file_extension": ".py",
   "mimetype": "text/x-python",
   "name": "python",
   "nbconvert_exporter": "python",
   "pygments_lexer": "ipython3",
   "version": "3.9.6"
  }
 },
 "nbformat": 4,
 "nbformat_minor": 2
}
