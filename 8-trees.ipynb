{
 "cells": [
  {
   "cell_type": "code",
   "execution_count": 20,
   "metadata": {},
   "outputs": [],
   "source": [
    "class Node:\n",
    "    def __init__(self, value, parent):\n",
    "        self.value = value\n",
    "        self.parent = parent\n",
    "        self.left = None\n",
    "        self.right = None"
   ]
  },
  {
   "cell_type": "code",
   "execution_count": 21,
   "metadata": {},
   "outputs": [],
   "source": [
    "#     1\n",
    "#   /  \\\n",
    "#  2    3\n",
    "#      /\n",
    "#     4"
   ]
  },
  {
   "cell_type": "code",
   "execution_count": 4,
   "metadata": {},
   "outputs": [],
   "source": [
    "root = Node(1, None)\n",
    "node2 = Node(2, root)\n",
    "root.left = node2\n",
    "node3 = Node(3, root)\n",
    "root.right = node3\n",
    "node4 = Node(4, node3)\n",
    "node3.left = node4"
   ]
  },
  {
   "cell_type": "code",
   "execution_count": 23,
   "metadata": {},
   "outputs": [
    {
     "name": "stdout",
     "output_type": "stream",
     "text": [
      "2\n",
      "1\n",
      "4\n",
      "3\n"
     ]
    }
   ],
   "source": [
    "def inorder(node):\n",
    "    if node == None:\n",
    "        return\n",
    "    \n",
    "    inorder(node.left)\n",
    "    print(node.value)\n",
    "    inorder(node.right)\n",
    "\n",
    "inorder(root)"
   ]
  },
  {
   "cell_type": "code",
   "execution_count": 24,
   "metadata": {},
   "outputs": [
    {
     "name": "stdout",
     "output_type": "stream",
     "text": [
      "1\n",
      "2\n",
      "3\n",
      "4\n"
     ]
    }
   ],
   "source": [
    "def preorder(node):\n",
    "    if node == None:\n",
    "        return\n",
    "    \n",
    "    print(node.value)\n",
    "    preorder(node.left)\n",
    "    preorder(node.right)\n",
    "\n",
    "preorder(root)"
   ]
  },
  {
   "cell_type": "code",
   "execution_count": 25,
   "metadata": {},
   "outputs": [
    {
     "name": "stdout",
     "output_type": "stream",
     "text": [
      "2\n",
      "4\n",
      "3\n",
      "1\n"
     ]
    }
   ],
   "source": [
    "def postorder(node):\n",
    "    if node == None:\n",
    "        return\n",
    "    \n",
    "    postorder(node.left)\n",
    "    postorder(node.right)\n",
    "    print(node.value)\n",
    "\n",
    "postorder(root)"
   ]
  },
  {
   "cell_type": "code",
   "execution_count": 26,
   "metadata": {},
   "outputs": [
    {
     "data": {
      "text/plain": [
       "False"
      ]
     },
     "execution_count": 26,
     "metadata": {},
     "output_type": "execute_result"
    }
   ],
   "source": [
    "def search(node, value):\n",
    "    if node == None:\n",
    "        return False\n",
    "    if node.value == value:\n",
    "        return True\n",
    "    if value < node.value:\n",
    "        return search(node.left, value)\n",
    "    return search(node.right, value)\n",
    "\n",
    "search(root, 2)"
   ]
  },
  {
   "cell_type": "code",
   "execution_count": 47,
   "metadata": {},
   "outputs": [],
   "source": [
    "def insert(node, value):\n",
    "    if value <= node.value:\n",
    "        if node.left is None:\n",
    "            child = Node(value, node)\n",
    "            node.left = child\n",
    "            return\n",
    "        insert(node.left, value)\n",
    "    else:\n",
    "        if node.right is None:\n",
    "            child = Node(value, node)\n",
    "            node.right = child\n",
    "            return\n",
    "        insert(node.right, value)"
   ]
  },
  {
   "cell_type": "code",
   "execution_count": null,
   "metadata": {},
   "outputs": [],
   "source": [
    "root = Node(4, None)\n",
    "insert(root, 5)\n",
    "insert(root, 3)\n",
    "insert(root, 8)\n",
    "insert(root, 1)\n",
    "insert(root, 6)\n",
    "insert(root, 4.5)"
   ]
  },
  {
   "cell_type": "code",
   "execution_count": 29,
   "metadata": {},
   "outputs": [
    {
     "name": "stdout",
     "output_type": "stream",
     "text": [
      "4\n",
      "3\n",
      "1\n",
      "5\n",
      "4.5\n",
      "8\n",
      "6\n"
     ]
    }
   ],
   "source": [
    "preorder(root)"
   ]
  },
  {
   "cell_type": "code",
   "execution_count": 30,
   "metadata": {},
   "outputs": [
    {
     "name": "stdout",
     "output_type": "stream",
     "text": [
      "1\n",
      "3\n",
      "4.5\n",
      "6\n",
      "8\n",
      "5\n",
      "4\n"
     ]
    }
   ],
   "source": [
    "postorder(root)"
   ]
  },
  {
   "cell_type": "code",
   "execution_count": 31,
   "metadata": {},
   "outputs": [
    {
     "name": "stdout",
     "output_type": "stream",
     "text": [
      "True\n"
     ]
    }
   ],
   "source": [
    "print(search(root, 4.5))"
   ]
  },
  {
   "cell_type": "code",
   "execution_count": 32,
   "metadata": {},
   "outputs": [
    {
     "name": "stdout",
     "output_type": "stream",
     "text": [
      "False\n",
      "True\n",
      "False\n",
      "True\n",
      "True\n",
      "True\n",
      "True\n",
      "False\n",
      "True\n",
      "False\n"
     ]
    }
   ],
   "source": [
    "for i in range(10):\n",
    "    print(search(root, i))"
   ]
  },
  {
   "cell_type": "code",
   "execution_count": 33,
   "metadata": {},
   "outputs": [],
   "source": [
    "def replace(node, child):\n",
    "    if node.parent == None:\n",
    "        root = child\n",
    "    elif node.parent.left == node:\n",
    "        node.parent.left = child\n",
    "    else:\n",
    "        node.parent.right = child\n",
    "    child.parent = node.parent\n",
    "\n",
    "\n",
    "\n",
    "def delete(node):\n",
    "    if node.right == None:\n",
    "        replace(node, node.left)\n",
    "    elif node.left == None:\n",
    "        replace(node, node.right)\n",
    "    else:\n",
    "        temp = node.left\n",
    "        while temp.right != None:\n",
    "            temp = temp.right\n",
    "        node.value = temp.value\n",
    "        delete(temp)"
   ]
  },
  {
   "cell_type": "markdown",
   "metadata": {},
   "source": [
    "node, search, insert, delete"
   ]
  },
  {
   "cell_type": "code",
   "execution_count": 17,
   "metadata": {},
   "outputs": [],
   "source": [
    "class Node:\n",
    "    def __init__(self, label, parent):\n",
    "        self.label = label\n",
    "        self.parent = parent\n",
    "        self.leftChild = None\n",
    "        self.rightChild = None\n",
    "    \n",
    "    def __str__(self):   # Returns the path from root to node\n",
    "        if self.parent:\n",
    "            return  str(self.parent) + \" \" + str(self.label)\n",
    "        else:\n",
    "            return str(self.label)\n"
   ]
  },
  {
   "cell_type": "code",
   "execution_count": 45,
   "metadata": {},
   "outputs": [],
   "source": [
    "def search(node, label):\n",
    "    if node.label == label or node is None:\n",
    "        return node\n",
    "    elif node.label > label:\n",
    "        return search(node.leftChild, label)\n",
    "    else:\n",
    "        return search(node.rightChild, label)"
   ]
  },
  {
   "cell_type": "code",
   "execution_count": null,
   "metadata": {},
   "outputs": [],
   "source": []
  }
 ],
 "metadata": {
  "kernelspec": {
   "display_name": "venv7",
   "language": "python",
   "name": "python3"
  },
  "language_info": {
   "codemirror_mode": {
    "name": "ipython",
    "version": 3
   },
   "file_extension": ".py",
   "mimetype": "text/x-python",
   "name": "python",
   "nbconvert_exporter": "python",
   "pygments_lexer": "ipython3",
   "version": "3.9.6"
  }
 },
 "nbformat": 4,
 "nbformat_minor": 2
}
