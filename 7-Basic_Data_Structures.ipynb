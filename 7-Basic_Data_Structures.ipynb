{
 "cells": [
  {
   "cell_type": "markdown",
   "metadata": {},
   "source": [
    "Queue"
   ]
  },
  {
   "cell_type": "code",
   "execution_count": 1,
   "metadata": {},
   "outputs": [],
   "source": [
    "class Queue:\n",
    "    def __init__(self, max_size) -> None:\n",
    "        self.max_size = max_size    # array size\n",
    "        self.Q = [0] * max_size     # array\n",
    "        self.num = 0                # number of array elements\n",
    "        self.first = 0              # index of the first element \n",
    "    \n",
    "    def enqueue(self, item):\n",
    "        if self.num >= self.max_size:\n",
    "            raise Exception(\"Queue overflow\")\n",
    "        self.Q[(self.num + self.first) % self.max_size] = item\n",
    "        self.num += 1\n",
    "        \n",
    "    def dequeue(self):\n",
    "        if self.num == 0:\n",
    "            raise Exception(\"Queue empty\")\n",
    "        item = self.Q[self.first]\n",
    "        self.first = (self.first + 1) % self.max_size\n",
    "        self.num -= 1\n",
    "        return item\n",
    "    \n",
    "    def front(self):\n",
    "        if self.num == 0:\n",
    "            raise Exception(\"Queue empty\")\n",
    "        return self.Q[self.first]\n",
    "    \n",
    "    def is_empty(self):\n",
    "        return self.num == 0\n",
    "    \n",
    "    def size(self):\n",
    "        return self.num\n",
    "    \n",
    "    def is_full(self):\n",
    "        return self.num >= self.max_size"
   ]
  },
  {
   "cell_type": "markdown",
   "metadata": {},
   "source": [
    "Stack"
   ]
  },
  {
   "cell_type": "code",
   "execution_count": null,
   "metadata": {},
   "outputs": [],
   "source": [
    "class Stack:\n",
    "    def __init__(self, max_size) -> None:\n",
    "        self.max_size = max_size\n",
    "        self.S = [0] * max_size\n",
    "        self.num = 0\n",
    "    \n",
    "    def push(self, item):\n",
    "        if self.num >= self.max_size:\n",
    "            raise Exception(\"Stack overflow\")\n",
    "        self.S[self.num] = item\n",
    "        self.num += 1\n",
    "    \n",
    "    def pop(self):\n",
    "        if self.num <= 0:\n",
    "            raise Exception(\"Stack empty\")\n",
    "        self.num -= 1\n",
    "        return self.S[self.num]\n",
    "    \n",
    "    def top(self):\n",
    "        if self.num == 0:\n",
    "            raise Exception(\"Stack empty\")\n",
    "        return self.S[self.num-1]\n",
    "\n",
    "    def size(self):\n",
    "        return self.num\n",
    "    \n",
    "    def is_full(self):\n",
    "        return self.num >= self.max_size\n",
    "    \n",
    "    def is_empty(self):\n",
    "        return self.num == 0\n"
   ]
  },
  {
   "cell_type": "markdown",
   "metadata": {},
   "source": [
    "DoubleEnded Queue"
   ]
  },
  {
   "cell_type": "code",
   "execution_count": null,
   "metadata": {},
   "outputs": [],
   "source": [
    "class DoubleEndedQueue:\n",
    "    def __init__(self, max_size):\n",
    "        self.max_size = max_size\n",
    "        self.Q = [0] * max_size\n",
    "        self.num = 0\n",
    "        self.first = 0\n",
    "    \n",
    "    def push_back(self, item): # Like one-way queue\n",
    "        if self.num >= self.max_size:\n",
    "            raise Exception(\"Queue overflow\")\n",
    "        self.Q[(self.first + self.num) % self.max_size] = item\n",
    "        self.num += 1\n",
    "    \n",
    "    def push_front(self, item):\n",
    "        if self.num >= self.max_size:\n",
    "            raise Exception(\"Queue overflow\")\n",
    "        self.first = (self.first - 1) % self.max_size\n",
    "        self.Q[self.first] = item\n",
    "        self.num += 1\n",
    "    \n",
    "    def pop_front(self): # Like one-way queue\n",
    "        if self.num == 0:\n",
    "            raise Exception(\"Queue empty\")\n",
    "        item = self.Q[self.first]\n",
    "        self.first = (self.first + 1) % self.max_size\n",
    "        self.num -= 1\n",
    "        return item\n",
    "    \n",
    "    def front(self): # Like one-way queue\n",
    "        if self.num == 0:\n",
    "            raise Exception(\"Queue empty\")\n",
    "        return self.Q[self.first]\n",
    "    \n",
    "    def pop_back(self):\n",
    "        if self.num >= 0:\n",
    "            raise Exception(\"Queue empty\")\n",
    "        self.num -= 1\n",
    "        return self.Q[(self.num + self.first) % self.max_size]\n",
    "    \n",
    "    def back(self): # New\n",
    "        if self.num == 0:\n",
    "            raise Exception(\"Queue empty\")\n",
    "        return self.Q[(self.num + self.first - 1) % self.max_size]\n",
    "    \n",
    "    def is_empty(self):\n",
    "        return self.num == 0\n",
    "    \n",
    "    def size(self):\n",
    "        return self.num\n",
    "    \n",
    "    def is_full(self):\n",
    "        return self.num >= self.max_size\n",
    "    "
   ]
  }
 ],
 "metadata": {
  "kernelspec": {
   "display_name": "venv7",
   "language": "python",
   "name": "python3"
  },
  "language_info": {
   "codemirror_mode": {
    "name": "ipython",
    "version": 3
   },
   "file_extension": ".py",
   "mimetype": "text/x-python",
   "name": "python",
   "nbconvert_exporter": "python",
   "pygments_lexer": "ipython3",
   "version": "3.9.6"
  }
 },
 "nbformat": 4,
 "nbformat_minor": 2
}
